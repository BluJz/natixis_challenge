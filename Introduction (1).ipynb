{
 "cells": [
  {
   "cell_type": "markdown",
   "id": "31e987db",
   "metadata": {},
   "source": [
    "# 1. Import"
   ]
  },
  {
   "cell_type": "code",
   "execution_count": 1,
   "id": "39bbdb6b",
   "metadata": {},
   "outputs": [],
   "source": [
    "import pandas as pd\n",
    "import numpy as np\n",
    "from sklearn.preprocessing import StandardScaler, OneHotEncoder\n",
    "from sklearn.metrics.pairwise import cosine_similarity\n",
    "from importlib import reload"
   ]
  },
  {
   "cell_type": "code",
   "execution_count": 2,
   "id": "9c047889",
   "metadata": {},
   "outputs": [],
   "source": [
    "# local modules\n",
    "from rfq_data_loader import load_data\n",
    "from preprocesser import preprocesser\n",
    "from client import client_avg, client_detail, client_weighted_hist_pref\n",
    "from unique_ISIN import unique_ISIN\n",
    "from sim_matrix import sim_calculator, find_top_n_similar_bonds, is_newbond, isin_to_features, client_apetite, client_apetite_dict, bond_to_n_client\n",
    "from new_bond import new_bond_df, new_bond_to_vec"
   ]
  },
  {
   "cell_type": "markdown",
   "id": "0573f318",
   "metadata": {
    "scrolled": true
   },
   "source": [
    "# 2. Load and Preprocess Data"
   ]
  },
  {
   "cell_type": "code",
   "execution_count": 3,
   "id": "d889fae1",
   "metadata": {
    "scrolled": true
   },
   "outputs": [
    {
     "name": "stderr",
     "output_type": "stream",
     "text": [
      "/Users/danliliu/Documents/DSB_M2/natixis/recommender/rfq_data_loader.py:4: DtypeWarning: Columns (7,9) have mixed types. Specify dtype option on import or set low_memory=False.\n",
      "  return pd.read_csv(file_path)\n"
     ]
    }
   ],
   "source": [
    "file_path = \"RFQ_Data_Challenge_HEC.csv\"\n",
    "df = load_data(file_path)"
   ]
  },
  {
   "cell_type": "code",
   "execution_count": 4,
   "id": "d0f65e26",
   "metadata": {},
   "outputs": [
    {
     "data": {
      "text/plain": [
       "(635455, 44)"
      ]
     },
     "execution_count": 4,
     "metadata": {},
     "output_type": "execute_result"
    }
   ],
   "source": [
    "df.shape"
   ]
  },
  {
   "cell_type": "code",
   "execution_count": 5,
   "id": "65b2a88c",
   "metadata": {},
   "outputs": [
    {
     "name": "stderr",
     "output_type": "stream",
     "text": [
      "/Users/danliliu/Documents/DSB_M2/natixis/recommender/preprocesser.py:11: SettingWithCopyWarning: \n",
      "A value is trying to be set on a copy of a slice from a DataFrame.\n",
      "Try using .loc[row_indexer,col_indexer] = value instead\n",
      "\n",
      "See the caveats in the documentation: https://pandas.pydata.org/pandas-docs/stable/user_guide/indexing.html#returning-a-view-versus-a-copy\n",
      "  df['B_Price'] = pd.to_numeric(df['B_Price'], errors='coerce')  # Convert to float, invalid parsing will be set as NaN\n"
     ]
    },
    {
     "data": {
      "text/plain": [
       "(287174, 41)"
      ]
     },
     "execution_count": 5,
     "metadata": {},
     "output_type": "execute_result"
    }
   ],
   "source": [
    "df = preprocesser(df)\n",
    "df.shape"
   ]
  },
  {
   "cell_type": "markdown",
   "id": "8eb750a9",
   "metadata": {},
   "source": [
    "# 3. Bond Recommender Core"
   ]
  },
  {
   "cell_type": "code",
   "execution_count": 6,
   "id": "7ef41ba2",
   "metadata": {},
   "outputs": [
    {
     "name": "stderr",
     "output_type": "stream",
     "text": [
      "/Users/danliliu/Documents/DSB_M2/natixis/recommender/sim_matrix.py:61: FutureWarning: iteritems is deprecated and will be removed in a future version. Use .items instead.\n",
      "  for isin, weight in percentage.iteritems():\n",
      "/Users/danliliu/Documents/DSB_M2/natixis/recommender/sim_matrix.py:61: FutureWarning: iteritems is deprecated and will be removed in a future version. Use .items instead.\n",
      "  for isin, weight in percentage.iteritems():\n",
      "/Users/danliliu/Documents/DSB_M2/natixis/recommender/sim_matrix.py:61: FutureWarning: iteritems is deprecated and will be removed in a future version. Use .items instead.\n",
      "  for isin, weight in percentage.iteritems():\n",
      "/Users/danliliu/Documents/DSB_M2/natixis/recommender/sim_matrix.py:61: FutureWarning: iteritems is deprecated and will be removed in a future version. Use .items instead.\n",
      "  for isin, weight in percentage.iteritems():\n",
      "/Users/danliliu/Documents/DSB_M2/natixis/recommender/sim_matrix.py:61: FutureWarning: iteritems is deprecated and will be removed in a future version. Use .items instead.\n",
      "  for isin, weight in percentage.iteritems():\n",
      "/Users/danliliu/Documents/DSB_M2/natixis/recommender/sim_matrix.py:61: FutureWarning: iteritems is deprecated and will be removed in a future version. Use .items instead.\n",
      "  for isin, weight in percentage.iteritems():\n",
      "/Users/danliliu/Documents/DSB_M2/natixis/recommender/sim_matrix.py:61: FutureWarning: iteritems is deprecated and will be removed in a future version. Use .items instead.\n",
      "  for isin, weight in percentage.iteritems():\n",
      "/Users/danliliu/Documents/DSB_M2/natixis/recommender/sim_matrix.py:61: FutureWarning: iteritems is deprecated and will be removed in a future version. Use .items instead.\n",
      "  for isin, weight in percentage.iteritems():\n",
      "/Users/danliliu/Documents/DSB_M2/natixis/recommender/sim_matrix.py:61: FutureWarning: iteritems is deprecated and will be removed in a future version. Use .items instead.\n",
      "  for isin, weight in percentage.iteritems():\n",
      "/Users/danliliu/Documents/DSB_M2/natixis/recommender/sim_matrix.py:61: FutureWarning: iteritems is deprecated and will be removed in a future version. Use .items instead.\n",
      "  for isin, weight in percentage.iteritems():\n",
      "/Users/danliliu/Documents/DSB_M2/natixis/recommender/sim_matrix.py:61: FutureWarning: iteritems is deprecated and will be removed in a future version. Use .items instead.\n",
      "  for isin, weight in percentage.iteritems():\n",
      "/Users/danliliu/Documents/DSB_M2/natixis/recommender/sim_matrix.py:61: FutureWarning: iteritems is deprecated and will be removed in a future version. Use .items instead.\n",
      "  for isin, weight in percentage.iteritems():\n",
      "/Users/danliliu/Documents/DSB_M2/natixis/recommender/sim_matrix.py:61: FutureWarning: iteritems is deprecated and will be removed in a future version. Use .items instead.\n",
      "  for isin, weight in percentage.iteritems():\n",
      "/Users/danliliu/Documents/DSB_M2/natixis/recommender/sim_matrix.py:61: FutureWarning: iteritems is deprecated and will be removed in a future version. Use .items instead.\n",
      "  for isin, weight in percentage.iteritems():\n",
      "/Users/danliliu/Documents/DSB_M2/natixis/recommender/sim_matrix.py:61: FutureWarning: iteritems is deprecated and will be removed in a future version. Use .items instead.\n",
      "  for isin, weight in percentage.iteritems():\n",
      "/Users/danliliu/Documents/DSB_M2/natixis/recommender/sim_matrix.py:61: FutureWarning: iteritems is deprecated and will be removed in a future version. Use .items instead.\n",
      "  for isin, weight in percentage.iteritems():\n",
      "/Users/danliliu/Documents/DSB_M2/natixis/recommender/sim_matrix.py:61: FutureWarning: iteritems is deprecated and will be removed in a future version. Use .items instead.\n",
      "  for isin, weight in percentage.iteritems():\n",
      "/Users/danliliu/Documents/DSB_M2/natixis/recommender/sim_matrix.py:61: FutureWarning: iteritems is deprecated and will be removed in a future version. Use .items instead.\n",
      "  for isin, weight in percentage.iteritems():\n",
      "/Users/danliliu/Documents/DSB_M2/natixis/recommender/sim_matrix.py:61: FutureWarning: iteritems is deprecated and will be removed in a future version. Use .items instead.\n",
      "  for isin, weight in percentage.iteritems():\n",
      "/Users/danliliu/Documents/DSB_M2/natixis/recommender/sim_matrix.py:61: FutureWarning: iteritems is deprecated and will be removed in a future version. Use .items instead.\n",
      "  for isin, weight in percentage.iteritems():\n",
      "/Users/danliliu/Documents/DSB_M2/natixis/recommender/sim_matrix.py:61: FutureWarning: iteritems is deprecated and will be removed in a future version. Use .items instead.\n",
      "  for isin, weight in percentage.iteritems():\n",
      "/Users/danliliu/Documents/DSB_M2/natixis/recommender/sim_matrix.py:61: FutureWarning: iteritems is deprecated and will be removed in a future version. Use .items instead.\n",
      "  for isin, weight in percentage.iteritems():\n",
      "/Users/danliliu/Documents/DSB_M2/natixis/recommender/sim_matrix.py:61: FutureWarning: iteritems is deprecated and will be removed in a future version. Use .items instead.\n",
      "  for isin, weight in percentage.iteritems():\n",
      "/Users/danliliu/Documents/DSB_M2/natixis/recommender/sim_matrix.py:61: FutureWarning: iteritems is deprecated and will be removed in a future version. Use .items instead.\n",
      "  for isin, weight in percentage.iteritems():\n",
      "/Users/danliliu/Documents/DSB_M2/natixis/recommender/sim_matrix.py:61: FutureWarning: iteritems is deprecated and will be removed in a future version. Use .items instead.\n",
      "  for isin, weight in percentage.iteritems():\n",
      "/Users/danliliu/Documents/DSB_M2/natixis/recommender/sim_matrix.py:61: FutureWarning: iteritems is deprecated and will be removed in a future version. Use .items instead.\n",
      "  for isin, weight in percentage.iteritems():\n",
      "/Users/danliliu/Documents/DSB_M2/natixis/recommender/sim_matrix.py:61: FutureWarning: iteritems is deprecated and will be removed in a future version. Use .items instead.\n",
      "  for isin, weight in percentage.iteritems():\n",
      "/Users/danliliu/Documents/DSB_M2/natixis/recommender/sim_matrix.py:61: FutureWarning: iteritems is deprecated and will be removed in a future version. Use .items instead.\n",
      "  for isin, weight in percentage.iteritems():\n",
      "/Users/danliliu/Documents/DSB_M2/natixis/recommender/sim_matrix.py:61: FutureWarning: iteritems is deprecated and will be removed in a future version. Use .items instead.\n",
      "  for isin, weight in percentage.iteritems():\n",
      "/Users/danliliu/Documents/DSB_M2/natixis/recommender/sim_matrix.py:61: FutureWarning: iteritems is deprecated and will be removed in a future version. Use .items instead.\n",
      "  for isin, weight in percentage.iteritems():\n",
      "/Users/danliliu/Documents/DSB_M2/natixis/recommender/sim_matrix.py:61: FutureWarning: iteritems is deprecated and will be removed in a future version. Use .items instead.\n",
      "  for isin, weight in percentage.iteritems():\n",
      "/Users/danliliu/Documents/DSB_M2/natixis/recommender/sim_matrix.py:61: FutureWarning: iteritems is deprecated and will be removed in a future version. Use .items instead.\n",
      "  for isin, weight in percentage.iteritems():\n",
      "/Users/danliliu/Documents/DSB_M2/natixis/recommender/sim_matrix.py:61: FutureWarning: iteritems is deprecated and will be removed in a future version. Use .items instead.\n",
      "  for isin, weight in percentage.iteritems():\n",
      "/Users/danliliu/Documents/DSB_M2/natixis/recommender/sim_matrix.py:61: FutureWarning: iteritems is deprecated and will be removed in a future version. Use .items instead.\n",
      "  for isin, weight in percentage.iteritems():\n",
      "/Users/danliliu/Documents/DSB_M2/natixis/recommender/sim_matrix.py:61: FutureWarning: iteritems is deprecated and will be removed in a future version. Use .items instead.\n",
      "  for isin, weight in percentage.iteritems():\n",
      "/Users/danliliu/Documents/DSB_M2/natixis/recommender/sim_matrix.py:61: FutureWarning: iteritems is deprecated and will be removed in a future version. Use .items instead.\n",
      "  for isin, weight in percentage.iteritems():\n",
      "/Users/danliliu/Documents/DSB_M2/natixis/recommender/sim_matrix.py:61: FutureWarning: iteritems is deprecated and will be removed in a future version. Use .items instead.\n",
      "  for isin, weight in percentage.iteritems():\n",
      "/Users/danliliu/Documents/DSB_M2/natixis/recommender/sim_matrix.py:61: FutureWarning: iteritems is deprecated and will be removed in a future version. Use .items instead.\n",
      "  for isin, weight in percentage.iteritems():\n",
      "/Users/danliliu/Documents/DSB_M2/natixis/recommender/sim_matrix.py:61: FutureWarning: iteritems is deprecated and will be removed in a future version. Use .items instead.\n",
      "  for isin, weight in percentage.iteritems():\n",
      "/Users/danliliu/Documents/DSB_M2/natixis/recommender/sim_matrix.py:61: FutureWarning: iteritems is deprecated and will be removed in a future version. Use .items instead.\n",
      "  for isin, weight in percentage.iteritems():\n",
      "/Users/danliliu/Documents/DSB_M2/natixis/recommender/sim_matrix.py:61: FutureWarning: iteritems is deprecated and will be removed in a future version. Use .items instead.\n",
      "  for isin, weight in percentage.iteritems():\n",
      "/Users/danliliu/Documents/DSB_M2/natixis/recommender/sim_matrix.py:61: FutureWarning: iteritems is deprecated and will be removed in a future version. Use .items instead.\n",
      "  for isin, weight in percentage.iteritems():\n",
      "/Users/danliliu/Documents/DSB_M2/natixis/recommender/sim_matrix.py:61: FutureWarning: iteritems is deprecated and will be removed in a future version. Use .items instead.\n",
      "  for isin, weight in percentage.iteritems():\n",
      "/Users/danliliu/Documents/DSB_M2/natixis/recommender/sim_matrix.py:61: FutureWarning: iteritems is deprecated and will be removed in a future version. Use .items instead.\n",
      "  for isin, weight in percentage.iteritems():\n",
      "/Users/danliliu/Documents/DSB_M2/natixis/recommender/sim_matrix.py:61: FutureWarning: iteritems is deprecated and will be removed in a future version. Use .items instead.\n",
      "  for isin, weight in percentage.iteritems():\n",
      "/Users/danliliu/Documents/DSB_M2/natixis/recommender/sim_matrix.py:61: FutureWarning: iteritems is deprecated and will be removed in a future version. Use .items instead.\n",
      "  for isin, weight in percentage.iteritems():\n",
      "/Users/danliliu/Documents/DSB_M2/natixis/recommender/sim_matrix.py:61: FutureWarning: iteritems is deprecated and will be removed in a future version. Use .items instead.\n",
      "  for isin, weight in percentage.iteritems():\n",
      "/Users/danliliu/Documents/DSB_M2/natixis/recommender/sim_matrix.py:61: FutureWarning: iteritems is deprecated and will be removed in a future version. Use .items instead.\n",
      "  for isin, weight in percentage.iteritems():\n",
      "/Users/danliliu/Documents/DSB_M2/natixis/recommender/sim_matrix.py:61: FutureWarning: iteritems is deprecated and will be removed in a future version. Use .items instead.\n",
      "  for isin, weight in percentage.iteritems():\n",
      "/Users/danliliu/Documents/DSB_M2/natixis/recommender/sim_matrix.py:61: FutureWarning: iteritems is deprecated and will be removed in a future version. Use .items instead.\n",
      "  for isin, weight in percentage.iteritems():\n",
      "/Users/danliliu/Documents/DSB_M2/natixis/recommender/sim_matrix.py:61: FutureWarning: iteritems is deprecated and will be removed in a future version. Use .items instead.\n",
      "  for isin, weight in percentage.iteritems():\n"
     ]
    },
    {
     "name": "stderr",
     "output_type": "stream",
     "text": [
      "/Users/danliliu/Documents/DSB_M2/natixis/recommender/sim_matrix.py:61: FutureWarning: iteritems is deprecated and will be removed in a future version. Use .items instead.\n",
      "  for isin, weight in percentage.iteritems():\n",
      "/Users/danliliu/Documents/DSB_M2/natixis/recommender/sim_matrix.py:61: FutureWarning: iteritems is deprecated and will be removed in a future version. Use .items instead.\n",
      "  for isin, weight in percentage.iteritems():\n",
      "/Users/danliliu/Documents/DSB_M2/natixis/recommender/sim_matrix.py:61: FutureWarning: iteritems is deprecated and will be removed in a future version. Use .items instead.\n",
      "  for isin, weight in percentage.iteritems():\n",
      "/Users/danliliu/Documents/DSB_M2/natixis/recommender/sim_matrix.py:61: FutureWarning: iteritems is deprecated and will be removed in a future version. Use .items instead.\n",
      "  for isin, weight in percentage.iteritems():\n",
      "/Users/danliliu/Documents/DSB_M2/natixis/recommender/sim_matrix.py:61: FutureWarning: iteritems is deprecated and will be removed in a future version. Use .items instead.\n",
      "  for isin, weight in percentage.iteritems():\n",
      "/Users/danliliu/Documents/DSB_M2/natixis/recommender/sim_matrix.py:61: FutureWarning: iteritems is deprecated and will be removed in a future version. Use .items instead.\n",
      "  for isin, weight in percentage.iteritems():\n",
      "/Users/danliliu/Documents/DSB_M2/natixis/recommender/sim_matrix.py:61: FutureWarning: iteritems is deprecated and will be removed in a future version. Use .items instead.\n",
      "  for isin, weight in percentage.iteritems():\n",
      "/Users/danliliu/Documents/DSB_M2/natixis/recommender/sim_matrix.py:61: FutureWarning: iteritems is deprecated and will be removed in a future version. Use .items instead.\n",
      "  for isin, weight in percentage.iteritems():\n",
      "/Users/danliliu/Documents/DSB_M2/natixis/recommender/sim_matrix.py:61: FutureWarning: iteritems is deprecated and will be removed in a future version. Use .items instead.\n",
      "  for isin, weight in percentage.iteritems():\n",
      "/Users/danliliu/Documents/DSB_M2/natixis/recommender/sim_matrix.py:61: FutureWarning: iteritems is deprecated and will be removed in a future version. Use .items instead.\n",
      "  for isin, weight in percentage.iteritems():\n",
      "/Users/danliliu/Documents/DSB_M2/natixis/recommender/sim_matrix.py:61: FutureWarning: iteritems is deprecated and will be removed in a future version. Use .items instead.\n",
      "  for isin, weight in percentage.iteritems():\n",
      "/Users/danliliu/Documents/DSB_M2/natixis/recommender/sim_matrix.py:61: FutureWarning: iteritems is deprecated and will be removed in a future version. Use .items instead.\n",
      "  for isin, weight in percentage.iteritems():\n",
      "/Users/danliliu/Documents/DSB_M2/natixis/recommender/sim_matrix.py:61: FutureWarning: iteritems is deprecated and will be removed in a future version. Use .items instead.\n",
      "  for isin, weight in percentage.iteritems():\n",
      "/Users/danliliu/Documents/DSB_M2/natixis/recommender/sim_matrix.py:61: FutureWarning: iteritems is deprecated and will be removed in a future version. Use .items instead.\n",
      "  for isin, weight in percentage.iteritems():\n",
      "/Users/danliliu/Documents/DSB_M2/natixis/recommender/sim_matrix.py:61: FutureWarning: iteritems is deprecated and will be removed in a future version. Use .items instead.\n",
      "  for isin, weight in percentage.iteritems():\n",
      "/Users/danliliu/Documents/DSB_M2/natixis/recommender/sim_matrix.py:61: FutureWarning: iteritems is deprecated and will be removed in a future version. Use .items instead.\n",
      "  for isin, weight in percentage.iteritems():\n",
      "/Users/danliliu/Documents/DSB_M2/natixis/recommender/sim_matrix.py:61: FutureWarning: iteritems is deprecated and will be removed in a future version. Use .items instead.\n",
      "  for isin, weight in percentage.iteritems():\n",
      "/Users/danliliu/Documents/DSB_M2/natixis/recommender/sim_matrix.py:61: FutureWarning: iteritems is deprecated and will be removed in a future version. Use .items instead.\n",
      "  for isin, weight in percentage.iteritems():\n",
      "/Users/danliliu/Documents/DSB_M2/natixis/recommender/sim_matrix.py:61: FutureWarning: iteritems is deprecated and will be removed in a future version. Use .items instead.\n",
      "  for isin, weight in percentage.iteritems():\n",
      "/Users/danliliu/Documents/DSB_M2/natixis/recommender/sim_matrix.py:61: FutureWarning: iteritems is deprecated and will be removed in a future version. Use .items instead.\n",
      "  for isin, weight in percentage.iteritems():\n",
      "/Users/danliliu/Documents/DSB_M2/natixis/recommender/sim_matrix.py:61: FutureWarning: iteritems is deprecated and will be removed in a future version. Use .items instead.\n",
      "  for isin, weight in percentage.iteritems():\n",
      "/Users/danliliu/Documents/DSB_M2/natixis/recommender/sim_matrix.py:61: FutureWarning: iteritems is deprecated and will be removed in a future version. Use .items instead.\n",
      "  for isin, weight in percentage.iteritems():\n",
      "/Users/danliliu/Documents/DSB_M2/natixis/recommender/sim_matrix.py:61: FutureWarning: iteritems is deprecated and will be removed in a future version. Use .items instead.\n",
      "  for isin, weight in percentage.iteritems():\n",
      "/Users/danliliu/Documents/DSB_M2/natixis/recommender/sim_matrix.py:61: FutureWarning: iteritems is deprecated and will be removed in a future version. Use .items instead.\n",
      "  for isin, weight in percentage.iteritems():\n",
      "/Users/danliliu/Documents/DSB_M2/natixis/recommender/sim_matrix.py:61: FutureWarning: iteritems is deprecated and will be removed in a future version. Use .items instead.\n",
      "  for isin, weight in percentage.iteritems():\n",
      "/Users/danliliu/Documents/DSB_M2/natixis/recommender/sim_matrix.py:61: FutureWarning: iteritems is deprecated and will be removed in a future version. Use .items instead.\n",
      "  for isin, weight in percentage.iteritems():\n",
      "/Users/danliliu/Documents/DSB_M2/natixis/recommender/sim_matrix.py:61: FutureWarning: iteritems is deprecated and will be removed in a future version. Use .items instead.\n",
      "  for isin, weight in percentage.iteritems():\n",
      "/Users/danliliu/Documents/DSB_M2/natixis/recommender/sim_matrix.py:61: FutureWarning: iteritems is deprecated and will be removed in a future version. Use .items instead.\n",
      "  for isin, weight in percentage.iteritems():\n",
      "/Users/danliliu/Documents/DSB_M2/natixis/recommender/sim_matrix.py:61: FutureWarning: iteritems is deprecated and will be removed in a future version. Use .items instead.\n",
      "  for isin, weight in percentage.iteritems():\n",
      "/Users/danliliu/Documents/DSB_M2/natixis/recommender/sim_matrix.py:61: FutureWarning: iteritems is deprecated and will be removed in a future version. Use .items instead.\n",
      "  for isin, weight in percentage.iteritems():\n",
      "/Users/danliliu/Documents/DSB_M2/natixis/recommender/sim_matrix.py:61: FutureWarning: iteritems is deprecated and will be removed in a future version. Use .items instead.\n",
      "  for isin, weight in percentage.iteritems():\n",
      "/Users/danliliu/Documents/DSB_M2/natixis/recommender/sim_matrix.py:61: FutureWarning: iteritems is deprecated and will be removed in a future version. Use .items instead.\n",
      "  for isin, weight in percentage.iteritems():\n",
      "/Users/danliliu/Documents/DSB_M2/natixis/recommender/sim_matrix.py:61: FutureWarning: iteritems is deprecated and will be removed in a future version. Use .items instead.\n",
      "  for isin, weight in percentage.iteritems():\n",
      "/Users/danliliu/Documents/DSB_M2/natixis/recommender/sim_matrix.py:61: FutureWarning: iteritems is deprecated and will be removed in a future version. Use .items instead.\n",
      "  for isin, weight in percentage.iteritems():\n",
      "/Users/danliliu/Documents/DSB_M2/natixis/recommender/sim_matrix.py:61: FutureWarning: iteritems is deprecated and will be removed in a future version. Use .items instead.\n",
      "  for isin, weight in percentage.iteritems():\n",
      "/Users/danliliu/Documents/DSB_M2/natixis/recommender/sim_matrix.py:61: FutureWarning: iteritems is deprecated and will be removed in a future version. Use .items instead.\n",
      "  for isin, weight in percentage.iteritems():\n",
      "/Users/danliliu/Documents/DSB_M2/natixis/recommender/sim_matrix.py:61: FutureWarning: iteritems is deprecated and will be removed in a future version. Use .items instead.\n",
      "  for isin, weight in percentage.iteritems():\n",
      "/Users/danliliu/Documents/DSB_M2/natixis/recommender/sim_matrix.py:61: FutureWarning: iteritems is deprecated and will be removed in a future version. Use .items instead.\n",
      "  for isin, weight in percentage.iteritems():\n",
      "/Users/danliliu/Documents/DSB_M2/natixis/recommender/sim_matrix.py:61: FutureWarning: iteritems is deprecated and will be removed in a future version. Use .items instead.\n",
      "  for isin, weight in percentage.iteritems():\n",
      "/Users/danliliu/Documents/DSB_M2/natixis/recommender/sim_matrix.py:61: FutureWarning: iteritems is deprecated and will be removed in a future version. Use .items instead.\n",
      "  for isin, weight in percentage.iteritems():\n",
      "/Users/danliliu/Documents/DSB_M2/natixis/recommender/sim_matrix.py:61: FutureWarning: iteritems is deprecated and will be removed in a future version. Use .items instead.\n",
      "  for isin, weight in percentage.iteritems():\n",
      "/Users/danliliu/Documents/DSB_M2/natixis/recommender/sim_matrix.py:61: FutureWarning: iteritems is deprecated and will be removed in a future version. Use .items instead.\n",
      "  for isin, weight in percentage.iteritems():\n"
     ]
    },
    {
     "name": "stderr",
     "output_type": "stream",
     "text": [
      "/Users/danliliu/Documents/DSB_M2/natixis/recommender/sim_matrix.py:61: FutureWarning: iteritems is deprecated and will be removed in a future version. Use .items instead.\n",
      "  for isin, weight in percentage.iteritems():\n",
      "/Users/danliliu/Documents/DSB_M2/natixis/recommender/sim_matrix.py:61: FutureWarning: iteritems is deprecated and will be removed in a future version. Use .items instead.\n",
      "  for isin, weight in percentage.iteritems():\n",
      "/Users/danliliu/Documents/DSB_M2/natixis/recommender/sim_matrix.py:61: FutureWarning: iteritems is deprecated and will be removed in a future version. Use .items instead.\n",
      "  for isin, weight in percentage.iteritems():\n",
      "/Users/danliliu/Documents/DSB_M2/natixis/recommender/sim_matrix.py:61: FutureWarning: iteritems is deprecated and will be removed in a future version. Use .items instead.\n",
      "  for isin, weight in percentage.iteritems():\n",
      "/Users/danliliu/Documents/DSB_M2/natixis/recommender/sim_matrix.py:61: FutureWarning: iteritems is deprecated and will be removed in a future version. Use .items instead.\n",
      "  for isin, weight in percentage.iteritems():\n",
      "/Users/danliliu/Documents/DSB_M2/natixis/recommender/sim_matrix.py:61: FutureWarning: iteritems is deprecated and will be removed in a future version. Use .items instead.\n",
      "  for isin, weight in percentage.iteritems():\n",
      "/Users/danliliu/Documents/DSB_M2/natixis/recommender/sim_matrix.py:61: FutureWarning: iteritems is deprecated and will be removed in a future version. Use .items instead.\n",
      "  for isin, weight in percentage.iteritems():\n",
      "/Users/danliliu/Documents/DSB_M2/natixis/recommender/sim_matrix.py:61: FutureWarning: iteritems is deprecated and will be removed in a future version. Use .items instead.\n",
      "  for isin, weight in percentage.iteritems():\n",
      "/Users/danliliu/Documents/DSB_M2/natixis/recommender/sim_matrix.py:61: FutureWarning: iteritems is deprecated and will be removed in a future version. Use .items instead.\n",
      "  for isin, weight in percentage.iteritems():\n",
      "/Users/danliliu/Documents/DSB_M2/natixis/recommender/sim_matrix.py:61: FutureWarning: iteritems is deprecated and will be removed in a future version. Use .items instead.\n",
      "  for isin, weight in percentage.iteritems():\n",
      "/Users/danliliu/Documents/DSB_M2/natixis/recommender/sim_matrix.py:61: FutureWarning: iteritems is deprecated and will be removed in a future version. Use .items instead.\n",
      "  for isin, weight in percentage.iteritems():\n",
      "/Users/danliliu/Documents/DSB_M2/natixis/recommender/sim_matrix.py:61: FutureWarning: iteritems is deprecated and will be removed in a future version. Use .items instead.\n",
      "  for isin, weight in percentage.iteritems():\n",
      "/Users/danliliu/Documents/DSB_M2/natixis/recommender/sim_matrix.py:61: FutureWarning: iteritems is deprecated and will be removed in a future version. Use .items instead.\n",
      "  for isin, weight in percentage.iteritems():\n",
      "/Users/danliliu/Documents/DSB_M2/natixis/recommender/sim_matrix.py:61: FutureWarning: iteritems is deprecated and will be removed in a future version. Use .items instead.\n",
      "  for isin, weight in percentage.iteritems():\n",
      "/Users/danliliu/Documents/DSB_M2/natixis/recommender/sim_matrix.py:61: FutureWarning: iteritems is deprecated and will be removed in a future version. Use .items instead.\n",
      "  for isin, weight in percentage.iteritems():\n",
      "/Users/danliliu/Documents/DSB_M2/natixis/recommender/sim_matrix.py:61: FutureWarning: iteritems is deprecated and will be removed in a future version. Use .items instead.\n",
      "  for isin, weight in percentage.iteritems():\n",
      "/Users/danliliu/Documents/DSB_M2/natixis/recommender/sim_matrix.py:61: FutureWarning: iteritems is deprecated and will be removed in a future version. Use .items instead.\n",
      "  for isin, weight in percentage.iteritems():\n",
      "/Users/danliliu/Documents/DSB_M2/natixis/recommender/sim_matrix.py:61: FutureWarning: iteritems is deprecated and will be removed in a future version. Use .items instead.\n",
      "  for isin, weight in percentage.iteritems():\n",
      "/Users/danliliu/Documents/DSB_M2/natixis/recommender/sim_matrix.py:61: FutureWarning: iteritems is deprecated and will be removed in a future version. Use .items instead.\n",
      "  for isin, weight in percentage.iteritems():\n",
      "/Users/danliliu/Documents/DSB_M2/natixis/recommender/sim_matrix.py:61: FutureWarning: iteritems is deprecated and will be removed in a future version. Use .items instead.\n",
      "  for isin, weight in percentage.iteritems():\n",
      "/Users/danliliu/Documents/DSB_M2/natixis/recommender/sim_matrix.py:61: FutureWarning: iteritems is deprecated and will be removed in a future version. Use .items instead.\n",
      "  for isin, weight in percentage.iteritems():\n",
      "/Users/danliliu/Documents/DSB_M2/natixis/recommender/sim_matrix.py:61: FutureWarning: iteritems is deprecated and will be removed in a future version. Use .items instead.\n",
      "  for isin, weight in percentage.iteritems():\n",
      "/Users/danliliu/Documents/DSB_M2/natixis/recommender/sim_matrix.py:61: FutureWarning: iteritems is deprecated and will be removed in a future version. Use .items instead.\n",
      "  for isin, weight in percentage.iteritems():\n",
      "/Users/danliliu/Documents/DSB_M2/natixis/recommender/sim_matrix.py:61: FutureWarning: iteritems is deprecated and will be removed in a future version. Use .items instead.\n",
      "  for isin, weight in percentage.iteritems():\n",
      "/Users/danliliu/Documents/DSB_M2/natixis/recommender/sim_matrix.py:61: FutureWarning: iteritems is deprecated and will be removed in a future version. Use .items instead.\n",
      "  for isin, weight in percentage.iteritems():\n",
      "/Users/danliliu/Documents/DSB_M2/natixis/recommender/sim_matrix.py:61: FutureWarning: iteritems is deprecated and will be removed in a future version. Use .items instead.\n",
      "  for isin, weight in percentage.iteritems():\n",
      "/Users/danliliu/Documents/DSB_M2/natixis/recommender/sim_matrix.py:61: FutureWarning: iteritems is deprecated and will be removed in a future version. Use .items instead.\n",
      "  for isin, weight in percentage.iteritems():\n",
      "/Users/danliliu/Documents/DSB_M2/natixis/recommender/sim_matrix.py:61: FutureWarning: iteritems is deprecated and will be removed in a future version. Use .items instead.\n",
      "  for isin, weight in percentage.iteritems():\n",
      "/Users/danliliu/Documents/DSB_M2/natixis/recommender/sim_matrix.py:61: FutureWarning: iteritems is deprecated and will be removed in a future version. Use .items instead.\n",
      "  for isin, weight in percentage.iteritems():\n",
      "/Users/danliliu/Documents/DSB_M2/natixis/recommender/sim_matrix.py:61: FutureWarning: iteritems is deprecated and will be removed in a future version. Use .items instead.\n",
      "  for isin, weight in percentage.iteritems():\n",
      "/Users/danliliu/Documents/DSB_M2/natixis/recommender/sim_matrix.py:61: FutureWarning: iteritems is deprecated and will be removed in a future version. Use .items instead.\n",
      "  for isin, weight in percentage.iteritems():\n",
      "/Users/danliliu/Documents/DSB_M2/natixis/recommender/sim_matrix.py:61: FutureWarning: iteritems is deprecated and will be removed in a future version. Use .items instead.\n",
      "  for isin, weight in percentage.iteritems():\n",
      "/Users/danliliu/Documents/DSB_M2/natixis/recommender/sim_matrix.py:61: FutureWarning: iteritems is deprecated and will be removed in a future version. Use .items instead.\n",
      "  for isin, weight in percentage.iteritems():\n",
      "/Users/danliliu/Documents/DSB_M2/natixis/recommender/sim_matrix.py:61: FutureWarning: iteritems is deprecated and will be removed in a future version. Use .items instead.\n",
      "  for isin, weight in percentage.iteritems():\n",
      "/Users/danliliu/Documents/DSB_M2/natixis/recommender/sim_matrix.py:61: FutureWarning: iteritems is deprecated and will be removed in a future version. Use .items instead.\n",
      "  for isin, weight in percentage.iteritems():\n",
      "/Users/danliliu/Documents/DSB_M2/natixis/recommender/sim_matrix.py:61: FutureWarning: iteritems is deprecated and will be removed in a future version. Use .items instead.\n",
      "  for isin, weight in percentage.iteritems():\n",
      "/Users/danliliu/Documents/DSB_M2/natixis/recommender/sim_matrix.py:61: FutureWarning: iteritems is deprecated and will be removed in a future version. Use .items instead.\n",
      "  for isin, weight in percentage.iteritems():\n",
      "/Users/danliliu/Documents/DSB_M2/natixis/recommender/sim_matrix.py:61: FutureWarning: iteritems is deprecated and will be removed in a future version. Use .items instead.\n",
      "  for isin, weight in percentage.iteritems():\n",
      "/Users/danliliu/Documents/DSB_M2/natixis/recommender/sim_matrix.py:61: FutureWarning: iteritems is deprecated and will be removed in a future version. Use .items instead.\n",
      "  for isin, weight in percentage.iteritems():\n",
      "/Users/danliliu/Documents/DSB_M2/natixis/recommender/sim_matrix.py:61: FutureWarning: iteritems is deprecated and will be removed in a future version. Use .items instead.\n",
      "  for isin, weight in percentage.iteritems():\n",
      "/Users/danliliu/Documents/DSB_M2/natixis/recommender/sim_matrix.py:61: FutureWarning: iteritems is deprecated and will be removed in a future version. Use .items instead.\n",
      "  for isin, weight in percentage.iteritems():\n"
     ]
    },
    {
     "name": "stderr",
     "output_type": "stream",
     "text": [
      "/Users/danliliu/Documents/DSB_M2/natixis/recommender/sim_matrix.py:61: FutureWarning: iteritems is deprecated and will be removed in a future version. Use .items instead.\n",
      "  for isin, weight in percentage.iteritems():\n",
      "/Users/danliliu/Documents/DSB_M2/natixis/recommender/sim_matrix.py:61: FutureWarning: iteritems is deprecated and will be removed in a future version. Use .items instead.\n",
      "  for isin, weight in percentage.iteritems():\n",
      "/Users/danliliu/Documents/DSB_M2/natixis/recommender/sim_matrix.py:61: FutureWarning: iteritems is deprecated and will be removed in a future version. Use .items instead.\n",
      "  for isin, weight in percentage.iteritems():\n",
      "/Users/danliliu/Documents/DSB_M2/natixis/recommender/sim_matrix.py:61: FutureWarning: iteritems is deprecated and will be removed in a future version. Use .items instead.\n",
      "  for isin, weight in percentage.iteritems():\n",
      "/Users/danliliu/Documents/DSB_M2/natixis/recommender/sim_matrix.py:61: FutureWarning: iteritems is deprecated and will be removed in a future version. Use .items instead.\n",
      "  for isin, weight in percentage.iteritems():\n",
      "/Users/danliliu/Documents/DSB_M2/natixis/recommender/sim_matrix.py:61: FutureWarning: iteritems is deprecated and will be removed in a future version. Use .items instead.\n",
      "  for isin, weight in percentage.iteritems():\n",
      "/Users/danliliu/Documents/DSB_M2/natixis/recommender/sim_matrix.py:61: FutureWarning: iteritems is deprecated and will be removed in a future version. Use .items instead.\n",
      "  for isin, weight in percentage.iteritems():\n",
      "/Users/danliliu/Documents/DSB_M2/natixis/recommender/sim_matrix.py:61: FutureWarning: iteritems is deprecated and will be removed in a future version. Use .items instead.\n",
      "  for isin, weight in percentage.iteritems():\n",
      "/Users/danliliu/Documents/DSB_M2/natixis/recommender/sim_matrix.py:61: FutureWarning: iteritems is deprecated and will be removed in a future version. Use .items instead.\n",
      "  for isin, weight in percentage.iteritems():\n",
      "/Users/danliliu/Documents/DSB_M2/natixis/recommender/sim_matrix.py:61: FutureWarning: iteritems is deprecated and will be removed in a future version. Use .items instead.\n",
      "  for isin, weight in percentage.iteritems():\n",
      "/Users/danliliu/Documents/DSB_M2/natixis/recommender/sim_matrix.py:61: FutureWarning: iteritems is deprecated and will be removed in a future version. Use .items instead.\n",
      "  for isin, weight in percentage.iteritems():\n",
      "/Users/danliliu/Documents/DSB_M2/natixis/recommender/sim_matrix.py:61: FutureWarning: iteritems is deprecated and will be removed in a future version. Use .items instead.\n",
      "  for isin, weight in percentage.iteritems():\n",
      "/Users/danliliu/Documents/DSB_M2/natixis/recommender/sim_matrix.py:61: FutureWarning: iteritems is deprecated and will be removed in a future version. Use .items instead.\n",
      "  for isin, weight in percentage.iteritems():\n",
      "/Users/danliliu/Documents/DSB_M2/natixis/recommender/sim_matrix.py:61: FutureWarning: iteritems is deprecated and will be removed in a future version. Use .items instead.\n",
      "  for isin, weight in percentage.iteritems():\n",
      "/Users/danliliu/Documents/DSB_M2/natixis/recommender/sim_matrix.py:61: FutureWarning: iteritems is deprecated and will be removed in a future version. Use .items instead.\n",
      "  for isin, weight in percentage.iteritems():\n",
      "/Users/danliliu/Documents/DSB_M2/natixis/recommender/sim_matrix.py:61: FutureWarning: iteritems is deprecated and will be removed in a future version. Use .items instead.\n",
      "  for isin, weight in percentage.iteritems():\n",
      "/Users/danliliu/Documents/DSB_M2/natixis/recommender/sim_matrix.py:61: FutureWarning: iteritems is deprecated and will be removed in a future version. Use .items instead.\n",
      "  for isin, weight in percentage.iteritems():\n",
      "/Users/danliliu/Documents/DSB_M2/natixis/recommender/sim_matrix.py:61: FutureWarning: iteritems is deprecated and will be removed in a future version. Use .items instead.\n",
      "  for isin, weight in percentage.iteritems():\n",
      "/Users/danliliu/Documents/DSB_M2/natixis/recommender/sim_matrix.py:61: FutureWarning: iteritems is deprecated and will be removed in a future version. Use .items instead.\n",
      "  for isin, weight in percentage.iteritems():\n",
      "/Users/danliliu/Documents/DSB_M2/natixis/recommender/sim_matrix.py:61: FutureWarning: iteritems is deprecated and will be removed in a future version. Use .items instead.\n",
      "  for isin, weight in percentage.iteritems():\n",
      "/Users/danliliu/Documents/DSB_M2/natixis/recommender/sim_matrix.py:61: FutureWarning: iteritems is deprecated and will be removed in a future version. Use .items instead.\n",
      "  for isin, weight in percentage.iteritems():\n",
      "/Users/danliliu/Documents/DSB_M2/natixis/recommender/sim_matrix.py:61: FutureWarning: iteritems is deprecated and will be removed in a future version. Use .items instead.\n",
      "  for isin, weight in percentage.iteritems():\n",
      "/Users/danliliu/Documents/DSB_M2/natixis/recommender/sim_matrix.py:61: FutureWarning: iteritems is deprecated and will be removed in a future version. Use .items instead.\n",
      "  for isin, weight in percentage.iteritems():\n",
      "/Users/danliliu/Documents/DSB_M2/natixis/recommender/sim_matrix.py:61: FutureWarning: iteritems is deprecated and will be removed in a future version. Use .items instead.\n",
      "  for isin, weight in percentage.iteritems():\n",
      "/Users/danliliu/Documents/DSB_M2/natixis/recommender/sim_matrix.py:61: FutureWarning: iteritems is deprecated and will be removed in a future version. Use .items instead.\n",
      "  for isin, weight in percentage.iteritems():\n",
      "/Users/danliliu/Documents/DSB_M2/natixis/recommender/sim_matrix.py:61: FutureWarning: iteritems is deprecated and will be removed in a future version. Use .items instead.\n",
      "  for isin, weight in percentage.iteritems():\n",
      "/Users/danliliu/Documents/DSB_M2/natixis/recommender/sim_matrix.py:61: FutureWarning: iteritems is deprecated and will be removed in a future version. Use .items instead.\n",
      "  for isin, weight in percentage.iteritems():\n",
      "/Users/danliliu/Documents/DSB_M2/natixis/recommender/sim_matrix.py:61: FutureWarning: iteritems is deprecated and will be removed in a future version. Use .items instead.\n",
      "  for isin, weight in percentage.iteritems():\n",
      "/Users/danliliu/Documents/DSB_M2/natixis/recommender/sim_matrix.py:61: FutureWarning: iteritems is deprecated and will be removed in a future version. Use .items instead.\n",
      "  for isin, weight in percentage.iteritems():\n",
      "/Users/danliliu/Documents/DSB_M2/natixis/recommender/sim_matrix.py:61: FutureWarning: iteritems is deprecated and will be removed in a future version. Use .items instead.\n",
      "  for isin, weight in percentage.iteritems():\n",
      "/Users/danliliu/Documents/DSB_M2/natixis/recommender/sim_matrix.py:61: FutureWarning: iteritems is deprecated and will be removed in a future version. Use .items instead.\n",
      "  for isin, weight in percentage.iteritems():\n",
      "/Users/danliliu/Documents/DSB_M2/natixis/recommender/sim_matrix.py:61: FutureWarning: iteritems is deprecated and will be removed in a future version. Use .items instead.\n",
      "  for isin, weight in percentage.iteritems():\n",
      "/Users/danliliu/Documents/DSB_M2/natixis/recommender/sim_matrix.py:61: FutureWarning: iteritems is deprecated and will be removed in a future version. Use .items instead.\n",
      "  for isin, weight in percentage.iteritems():\n",
      "/Users/danliliu/Documents/DSB_M2/natixis/recommender/sim_matrix.py:61: FutureWarning: iteritems is deprecated and will be removed in a future version. Use .items instead.\n",
      "  for isin, weight in percentage.iteritems():\n",
      "/Users/danliliu/Documents/DSB_M2/natixis/recommender/sim_matrix.py:61: FutureWarning: iteritems is deprecated and will be removed in a future version. Use .items instead.\n",
      "  for isin, weight in percentage.iteritems():\n",
      "/Users/danliliu/Documents/DSB_M2/natixis/recommender/sim_matrix.py:61: FutureWarning: iteritems is deprecated and will be removed in a future version. Use .items instead.\n",
      "  for isin, weight in percentage.iteritems():\n",
      "/Users/danliliu/Documents/DSB_M2/natixis/recommender/sim_matrix.py:61: FutureWarning: iteritems is deprecated and will be removed in a future version. Use .items instead.\n",
      "  for isin, weight in percentage.iteritems():\n",
      "/Users/danliliu/Documents/DSB_M2/natixis/recommender/sim_matrix.py:61: FutureWarning: iteritems is deprecated and will be removed in a future version. Use .items instead.\n",
      "  for isin, weight in percentage.iteritems():\n",
      "/Users/danliliu/Documents/DSB_M2/natixis/recommender/sim_matrix.py:61: FutureWarning: iteritems is deprecated and will be removed in a future version. Use .items instead.\n",
      "  for isin, weight in percentage.iteritems():\n",
      "/Users/danliliu/Documents/DSB_M2/natixis/recommender/sim_matrix.py:61: FutureWarning: iteritems is deprecated and will be removed in a future version. Use .items instead.\n",
      "  for isin, weight in percentage.iteritems():\n",
      "/Users/danliliu/Documents/DSB_M2/natixis/recommender/sim_matrix.py:61: FutureWarning: iteritems is deprecated and will be removed in a future version. Use .items instead.\n",
      "  for isin, weight in percentage.iteritems():\n",
      "/Users/danliliu/Documents/DSB_M2/natixis/recommender/sim_matrix.py:61: FutureWarning: iteritems is deprecated and will be removed in a future version. Use .items instead.\n",
      "  for isin, weight in percentage.iteritems():\n",
      "/Users/danliliu/Documents/DSB_M2/natixis/recommender/sim_matrix.py:61: FutureWarning: iteritems is deprecated and will be removed in a future version. Use .items instead.\n",
      "  for isin, weight in percentage.iteritems():\n",
      "/Users/danliliu/Documents/DSB_M2/natixis/recommender/sim_matrix.py:61: FutureWarning: iteritems is deprecated and will be removed in a future version. Use .items instead.\n",
      "  for isin, weight in percentage.iteritems():\n"
     ]
    }
   ],
   "source": [
    "# global\n",
    "df_unique = unique_ISIN(df=df)\n",
    "similarity_matrix, scaler, one_hot_encoder, features = sim_calculator(df_unique=df_unique)\n",
    "isin_to_features_dict = isin_to_features(df_unique=df_unique, features=features)\n",
    "client_apetite_dict_hist = client_apetite_dict(recent100=False,df=df, isin_to_features=isin_to_features_dict)\n",
    "client_apetite_dict_recent = client_apetite_dict(recent100=True,df=df, isin_to_features=isin_to_features_dict)"
   ]
  },
  {
   "cell_type": "code",
   "execution_count": 7,
   "id": "d41bbb44",
   "metadata": {},
   "outputs": [],
   "source": [
    "# if there is an new bond, run this cell\n",
    "new_bond = {\n",
    "    'ISIN': 'new',\n",
    "    'Coupon': 0.5,\n",
    "    'BloomIndustrySubGroup': 'Sovereign',\n",
    "    'Classification': 'Government',\n",
    "    'Country': 'GERMANY',\n",
    "    'Ccy': 'EUR',\n",
    "    'Rating_SP': 'AAA',\n",
    "    'Deal_Date': '2022-11-10',\n",
    "    'Maturity': '2025-07-15',\n",
    "    'Type': 'Fixed',\n",
    "}\n",
    "new_bond_df0 =new_bond_df(new_bond)\n",
    "new_bond_features0 = new_bond_to_vec(new_bond_df=new_bond_df0,scaler=scaler, one_hot_encoder=one_hot_encoder)"
   ]
  },
  {
   "cell_type": "code",
   "execution_count": 8,
   "id": "c89c37a4",
   "metadata": {},
   "outputs": [],
   "source": [
    "# if there is a new bond, run this cell\n",
    "client_hist_new_bond = bond_to_n_client(bond_vect=new_bond_features0,client_apetite_dict=client_apetite_dict_hist,n=10)\n",
    "client_recent_new_bond = bond_to_n_client(bond_vect=new_bond_features0,client_apetite_dict=client_apetite_dict_recent,n=10)\n",
    "bonds_new_bond = find_top_n_similar_bonds(new_bond_features=new_bond_features0, existing_features=features, df_unique=df_unique,n=10)"
   ]
  },
  {
   "cell_type": "code",
   "execution_count": 9,
   "id": "9febe9c8",
   "metadata": {},
   "outputs": [
    {
     "name": "stderr",
     "output_type": "stream",
     "text": [
      "/Users/danliliu/Documents/DSB_M2/natixis/recommender/sim_matrix.py:61: FutureWarning: iteritems is deprecated and will be removed in a future version. Use .items instead.\n",
      "  for isin, weight in percentage.iteritems():\n"
     ]
    }
   ],
   "source": [
    "# if you want to recommend bond to certain client, run this cell\n",
    "client = 'Societe Generale Mer'\n",
    "client_hist_apetite = client_apetite(client=client, recent100=False, df=df, isin_to_features=isin_to_features_dict) # False to get historical apetite, True to get recent apetite\n",
    "top_n_bonds=find_top_n_similar_bonds(new_bond_features=client_hist_apetite,existing_features=features, df_unique=df_unique, n=10)"
   ]
  },
  {
   "cell_type": "code",
   "execution_count": 14,
   "id": "64508634",
   "metadata": {},
   "outputs": [],
   "source": [
    "# if there is an existing bond, run this cell\n",
    "isin = 'USY7S272AH57'\n",
    "new_bond_features = isin_to_features_dict[isin].reshape(1,-1)\n",
    "client_hist_new_bond = bond_to_n_client(bond_vect=new_bond_features,client_apetite_dict=client_apetite_dict_hist,n=10)\n",
    "client_recent_new_bond = bond_to_n_client(bond_vect=new_bond_features,client_apetite_dict=client_apetite_dict_recent,n=10)\n",
    "bonds_new_bond = find_top_n_similar_bonds(new_bond_features=new_bond_features,existing_features=features, df_unique=df_unique,n=10)"
   ]
  },
  {
   "cell_type": "markdown",
   "id": "d8ff2818",
   "metadata": {},
   "source": [
    "# 4. Bond Recommendation Basic Output"
   ]
  },
  {
   "cell_type": "code",
   "execution_count": 12,
   "id": "4cf72d40",
   "metadata": {},
   "outputs": [
    {
     "data": {
      "text/html": [
       "<div>\n",
       "<style scoped>\n",
       "    .dataframe tbody tr th:only-of-type {\n",
       "        vertical-align: middle;\n",
       "    }\n",
       "\n",
       "    .dataframe tbody tr th {\n",
       "        vertical-align: top;\n",
       "    }\n",
       "\n",
       "    .dataframe thead th {\n",
       "        text-align: right;\n",
       "    }\n",
       "</style>\n",
       "<table border=\"1\" class=\"dataframe\">\n",
       "  <thead>\n",
       "    <tr style=\"text-align: right;\">\n",
       "      <th></th>\n",
       "      <th>ISIN</th>\n",
       "      <th>Coupon</th>\n",
       "      <th>BloomIndustrySubGroup</th>\n",
       "      <th>Classification</th>\n",
       "      <th>Country</th>\n",
       "      <th>Ccy</th>\n",
       "      <th>Rating_SP</th>\n",
       "      <th>Maturity</th>\n",
       "      <th>dl_maturity_years</th>\n",
       "      <th>Type</th>\n",
       "      <th>Rating_SP_Ordinal</th>\n",
       "    </tr>\n",
       "  </thead>\n",
       "  <tbody>\n",
       "    <tr>\n",
       "      <th>0</th>\n",
       "      <td>new</td>\n",
       "      <td>0.5</td>\n",
       "      <td>Sovereign</td>\n",
       "      <td>Government</td>\n",
       "      <td>GERMANY</td>\n",
       "      <td>EUR</td>\n",
       "      <td>AAA</td>\n",
       "      <td>2025-07-15</td>\n",
       "      <td>1.5</td>\n",
       "      <td>Fixed</td>\n",
       "      <td>21</td>\n",
       "    </tr>\n",
       "  </tbody>\n",
       "</table>\n",
       "</div>"
      ],
      "text/plain": [
       "  ISIN  Coupon BloomIndustrySubGroup Classification  Country  Ccy Rating_SP  \\\n",
       "0  new     0.5             Sovereign     Government  GERMANY  EUR       AAA   \n",
       "\n",
       "    Maturity  dl_maturity_years   Type  Rating_SP_Ordinal  \n",
       "0 2025-07-15                1.5  Fixed                 21  "
      ]
     },
     "execution_count": 12,
     "metadata": {},
     "output_type": "execute_result"
    }
   ],
   "source": [
    "# if you want to compare with the queried new bond's info with the output, run this cell\n",
    "new_bond_df0"
   ]
  },
  {
   "cell_type": "code",
   "execution_count": 15,
   "id": "dc8ff1d9",
   "metadata": {},
   "outputs": [
    {
     "data": {
      "text/html": [
       "<div>\n",
       "<style scoped>\n",
       "    .dataframe tbody tr th:only-of-type {\n",
       "        vertical-align: middle;\n",
       "    }\n",
       "\n",
       "    .dataframe tbody tr th {\n",
       "        vertical-align: top;\n",
       "    }\n",
       "\n",
       "    .dataframe thead th {\n",
       "        text-align: right;\n",
       "    }\n",
       "</style>\n",
       "<table border=\"1\" class=\"dataframe\">\n",
       "  <thead>\n",
       "    <tr style=\"text-align: right;\">\n",
       "      <th></th>\n",
       "      <th>ISIN</th>\n",
       "      <th>Coupon</th>\n",
       "      <th>BloomIndustrySubGroup</th>\n",
       "      <th>Classification</th>\n",
       "      <th>Country</th>\n",
       "      <th>Ccy</th>\n",
       "      <th>Rating_SP</th>\n",
       "      <th>Maturity</th>\n",
       "      <th>dl_maturity_years</th>\n",
       "      <th>Type</th>\n",
       "      <th>Rating_SP_Ordinal</th>\n",
       "    </tr>\n",
       "  </thead>\n",
       "  <tbody>\n",
       "    <tr>\n",
       "      <th>634678</th>\n",
       "      <td>USY7S272AH57</td>\n",
       "      <td>5.875</td>\n",
       "      <td>Steel-Producers</td>\n",
       "      <td>Basic Materials</td>\n",
       "      <td>KOREA</td>\n",
       "      <td>USD</td>\n",
       "      <td>A-</td>\n",
       "      <td>2033-01-17</td>\n",
       "      <td>9.01</td>\n",
       "      <td>Fixed</td>\n",
       "      <td>15</td>\n",
       "    </tr>\n",
       "    <tr>\n",
       "      <th>635160</th>\n",
       "      <td>XS1218319702</td>\n",
       "      <td>1.000</td>\n",
       "      <td>REITS-Diversified</td>\n",
       "      <td>Financials</td>\n",
       "      <td>FRANCE</td>\n",
       "      <td>EUR</td>\n",
       "      <td>BBB+</td>\n",
       "      <td>2025-03-14</td>\n",
       "      <td>1.16</td>\n",
       "      <td>Fixed</td>\n",
       "      <td>14</td>\n",
       "    </tr>\n",
       "  </tbody>\n",
       "</table>\n",
       "</div>"
      ],
      "text/plain": [
       "                ISIN  Coupon BloomIndustrySubGroup   Classification Country  \\\n",
       "634678  USY7S272AH57   5.875       Steel-Producers  Basic Materials   KOREA   \n",
       "635160  XS1218319702   1.000     REITS-Diversified       Financials  FRANCE   \n",
       "\n",
       "        Ccy Rating_SP   Maturity  dl_maturity_years   Type  Rating_SP_Ordinal  \n",
       "634678  USD        A- 2033-01-17               9.01  Fixed                 15  \n",
       "635160  EUR      BBB+ 2025-03-14               1.16  Fixed                 14  "
      ]
     },
     "execution_count": 15,
     "metadata": {},
     "output_type": "execute_result"
    }
   ],
   "source": [
    "# if you want to compare with the queried existing bond's info with the output, run this cell\n",
    "df_unique.tail(2)"
   ]
  },
  {
   "cell_type": "code",
   "execution_count": 16,
   "id": "f56e0ef9",
   "metadata": {},
   "outputs": [
    {
     "data": {
      "text/plain": [
       "[\"Banque Populaire De L'Ouest\",\n",
       " 'Ax',\n",
       " 'Cegi Ett',\n",
       " 'Bred',\n",
       " 'Bnp Paribas',\n",
       " 'Axa France Iard',\n",
       " 'Sg',\n",
       " 'Ce Loire Centre',\n",
       " 'Oso',\n",
       " 'Banque Cantonale Du Jura']"
      ]
     },
     "execution_count": 16,
     "metadata": {},
     "output_type": "execute_result"
    }
   ],
   "source": [
    "client_hist_new_bond"
   ]
  },
  {
   "cell_type": "code",
   "execution_count": 17,
   "id": "f60b7817",
   "metadata": {},
   "outputs": [
    {
     "data": {
      "text/plain": [
       "['Coface',\n",
       " 'Cegc',\n",
       " 'Qbe',\n",
       " 'Socamet',\n",
       " 'Societe Generale Artenay',\n",
       " 'Bnp Reunion',\n",
       " 'License De Transport',\n",
       " 'Maitre Bondroit',\n",
       " 'Hsbc',\n",
       " 'Ce Loire Centre']"
      ]
     },
     "execution_count": 17,
     "metadata": {},
     "output_type": "execute_result"
    }
   ],
   "source": [
    "client_recent_new_bond"
   ]
  },
  {
   "cell_type": "code",
   "execution_count": 18,
   "id": "77e96a85",
   "metadata": {},
   "outputs": [
    {
     "data": {
      "text/html": [
       "<div>\n",
       "<style scoped>\n",
       "    .dataframe tbody tr th:only-of-type {\n",
       "        vertical-align: middle;\n",
       "    }\n",
       "\n",
       "    .dataframe tbody tr th {\n",
       "        vertical-align: top;\n",
       "    }\n",
       "\n",
       "    .dataframe thead th {\n",
       "        text-align: right;\n",
       "    }\n",
       "</style>\n",
       "<table border=\"1\" class=\"dataframe\">\n",
       "  <thead>\n",
       "    <tr style=\"text-align: right;\">\n",
       "      <th></th>\n",
       "      <th>ISIN</th>\n",
       "      <th>Coupon</th>\n",
       "      <th>BloomIndustrySubGroup</th>\n",
       "      <th>Classification</th>\n",
       "      <th>Country</th>\n",
       "      <th>Ccy</th>\n",
       "      <th>Rating_SP</th>\n",
       "      <th>Maturity</th>\n",
       "      <th>dl_maturity_years</th>\n",
       "      <th>Type</th>\n",
       "      <th>Rating_SP_Ordinal</th>\n",
       "    </tr>\n",
       "  </thead>\n",
       "  <tbody>\n",
       "    <tr>\n",
       "      <th>634678</th>\n",
       "      <td>USY7S272AH57</td>\n",
       "      <td>5.875</td>\n",
       "      <td>Steel-Producers</td>\n",
       "      <td>Basic Materials</td>\n",
       "      <td>KOREA</td>\n",
       "      <td>USD</td>\n",
       "      <td>A-</td>\n",
       "      <td>2033-01-17</td>\n",
       "      <td>9.01</td>\n",
       "      <td>Fixed</td>\n",
       "      <td>15</td>\n",
       "    </tr>\n",
       "    <tr>\n",
       "      <th>82240</th>\n",
       "      <td>USY7S272AG74</td>\n",
       "      <td>5.750</td>\n",
       "      <td>Steel-Producers</td>\n",
       "      <td>Basic Materials</td>\n",
       "      <td>KOREA</td>\n",
       "      <td>USD</td>\n",
       "      <td>A-</td>\n",
       "      <td>2028-01-17</td>\n",
       "      <td>4.01</td>\n",
       "      <td>Fixed</td>\n",
       "      <td>15</td>\n",
       "    </tr>\n",
       "    <tr>\n",
       "      <th>93684</th>\n",
       "      <td>USY7S272AF91</td>\n",
       "      <td>5.625</td>\n",
       "      <td>Steel-Producers</td>\n",
       "      <td>Basic Materials</td>\n",
       "      <td>KOREA</td>\n",
       "      <td>USD</td>\n",
       "      <td>A-</td>\n",
       "      <td>2026-01-17</td>\n",
       "      <td>2.01</td>\n",
       "      <td>Fixed</td>\n",
       "      <td>15</td>\n",
       "    </tr>\n",
       "    <tr>\n",
       "      <th>20999</th>\n",
       "      <td>USY7S272AD44</td>\n",
       "      <td>4.375</td>\n",
       "      <td>Steel-Producers</td>\n",
       "      <td>Basic Materials</td>\n",
       "      <td>KOREA</td>\n",
       "      <td>USD</td>\n",
       "      <td>A-</td>\n",
       "      <td>2025-08-04</td>\n",
       "      <td>1.55</td>\n",
       "      <td>Fixed</td>\n",
       "      <td>15</td>\n",
       "    </tr>\n",
       "    <tr>\n",
       "      <th>188733</th>\n",
       "      <td>USY8085FBL32</td>\n",
       "      <td>6.500</td>\n",
       "      <td>Electronic Compo-Semicon</td>\n",
       "      <td>Technology</td>\n",
       "      <td>KOREA</td>\n",
       "      <td>USD</td>\n",
       "      <td>BBB-</td>\n",
       "      <td>2033-01-17</td>\n",
       "      <td>9.01</td>\n",
       "      <td>Fixed</td>\n",
       "      <td>12</td>\n",
       "    </tr>\n",
       "    <tr>\n",
       "      <th>119810</th>\n",
       "      <td>XS2703610050</td>\n",
       "      <td>6.875</td>\n",
       "      <td>Finance-Invest Bnkr/Brkr</td>\n",
       "      <td>Financials</td>\n",
       "      <td>KOREA</td>\n",
       "      <td>USD</td>\n",
       "      <td>BBB</td>\n",
       "      <td>2026-11-06</td>\n",
       "      <td>2.81</td>\n",
       "      <td>Fixed</td>\n",
       "      <td>13</td>\n",
       "    </tr>\n",
       "    <tr>\n",
       "      <th>418736</th>\n",
       "      <td>USY8085FBK58</td>\n",
       "      <td>6.375</td>\n",
       "      <td>Electronic Compo-Semicon</td>\n",
       "      <td>Technology</td>\n",
       "      <td>KOREA</td>\n",
       "      <td>USD</td>\n",
       "      <td>BBB-</td>\n",
       "      <td>2028-01-17</td>\n",
       "      <td>4.01</td>\n",
       "      <td>Fixed</td>\n",
       "      <td>12</td>\n",
       "    </tr>\n",
       "    <tr>\n",
       "      <th>423625</th>\n",
       "      <td>US500630EB00</td>\n",
       "      <td>5.625</td>\n",
       "      <td>Special Purpose Banks</td>\n",
       "      <td>Government</td>\n",
       "      <td>KOREA</td>\n",
       "      <td>USD</td>\n",
       "      <td>AA</td>\n",
       "      <td>2033-10-23</td>\n",
       "      <td>9.78</td>\n",
       "      <td>Fixed</td>\n",
       "      <td>19</td>\n",
       "    </tr>\n",
       "    <tr>\n",
       "      <th>404642</th>\n",
       "      <td>US45604HAN70</td>\n",
       "      <td>5.375</td>\n",
       "      <td>Special Purpose Banks</td>\n",
       "      <td>Financials</td>\n",
       "      <td>KOREA</td>\n",
       "      <td>USD</td>\n",
       "      <td>AA-</td>\n",
       "      <td>2028-10-04</td>\n",
       "      <td>4.72</td>\n",
       "      <td>Fixed</td>\n",
       "      <td>18</td>\n",
       "    </tr>\n",
       "    <tr>\n",
       "      <th>97653</th>\n",
       "      <td>US302154DW60</td>\n",
       "      <td>5.125</td>\n",
       "      <td>Export/Import Bank</td>\n",
       "      <td>Government</td>\n",
       "      <td>KOREA</td>\n",
       "      <td>USD</td>\n",
       "      <td>AA</td>\n",
       "      <td>2033-01-11</td>\n",
       "      <td>9.00</td>\n",
       "      <td>Fixed</td>\n",
       "      <td>19</td>\n",
       "    </tr>\n",
       "  </tbody>\n",
       "</table>\n",
       "</div>"
      ],
      "text/plain": [
       "                ISIN  Coupon     BloomIndustrySubGroup   Classification  \\\n",
       "634678  USY7S272AH57   5.875           Steel-Producers  Basic Materials   \n",
       "82240   USY7S272AG74   5.750           Steel-Producers  Basic Materials   \n",
       "93684   USY7S272AF91   5.625           Steel-Producers  Basic Materials   \n",
       "20999   USY7S272AD44   4.375           Steel-Producers  Basic Materials   \n",
       "188733  USY8085FBL32   6.500  Electronic Compo-Semicon       Technology   \n",
       "119810  XS2703610050   6.875  Finance-Invest Bnkr/Brkr       Financials   \n",
       "418736  USY8085FBK58   6.375  Electronic Compo-Semicon       Technology   \n",
       "423625  US500630EB00   5.625     Special Purpose Banks       Government   \n",
       "404642  US45604HAN70   5.375     Special Purpose Banks       Financials   \n",
       "97653   US302154DW60   5.125        Export/Import Bank       Government   \n",
       "\n",
       "       Country  Ccy Rating_SP   Maturity  dl_maturity_years   Type  \\\n",
       "634678   KOREA  USD        A- 2033-01-17               9.01  Fixed   \n",
       "82240    KOREA  USD        A- 2028-01-17               4.01  Fixed   \n",
       "93684    KOREA  USD        A- 2026-01-17               2.01  Fixed   \n",
       "20999    KOREA  USD        A- 2025-08-04               1.55  Fixed   \n",
       "188733   KOREA  USD      BBB- 2033-01-17               9.01  Fixed   \n",
       "119810   KOREA  USD       BBB 2026-11-06               2.81  Fixed   \n",
       "418736   KOREA  USD      BBB- 2028-01-17               4.01  Fixed   \n",
       "423625   KOREA  USD        AA 2033-10-23               9.78  Fixed   \n",
       "404642   KOREA  USD       AA- 2028-10-04               4.72  Fixed   \n",
       "97653    KOREA  USD        AA 2033-01-11               9.00  Fixed   \n",
       "\n",
       "        Rating_SP_Ordinal  \n",
       "634678                 15  \n",
       "82240                  15  \n",
       "93684                  15  \n",
       "20999                  15  \n",
       "188733                 12  \n",
       "119810                 13  \n",
       "418736                 12  \n",
       "423625                 19  \n",
       "404642                 18  \n",
       "97653                  19  "
      ]
     },
     "execution_count": 18,
     "metadata": {},
     "output_type": "execute_result"
    }
   ],
   "source": [
    "bonds_new_bond"
   ]
  },
  {
   "cell_type": "markdown",
   "id": "ad4622e5",
   "metadata": {},
   "source": [
    "# 5. (Options) Filters for the basic output (TBD)"
   ]
  },
  {
   "cell_type": "markdown",
   "id": "8029fd62",
   "metadata": {},
   "source": [
    "# 6. (Options) Explore the bond and the client (TBD)"
   ]
  },
  {
   "cell_type": "code",
   "execution_count": 14,
   "id": "23fb47c1",
   "metadata": {},
   "outputs": [],
   "source": [
    "# lib optional only for this notebook\n",
    "import matplotlib.pyplot as plt\n",
    "from wordcloud import WordCloud\n",
    "import seaborn as sns"
   ]
  },
  {
   "cell_type": "code",
   "execution_count": 15,
   "id": "54d6653c",
   "metadata": {},
   "outputs": [],
   "source": [
    "cols = ['B_Side','Total_Requested_Volume','Total_Traded_Volume_Natixis','Total_Traded_Volume_Away','Total_Traded_Volume']"
   ]
  },
  {
   "cell_type": "code",
   "execution_count": 16,
   "id": "484bf7b4",
   "metadata": {},
   "outputs": [],
   "source": [
    "cols_name = ['Instrument','company_short_name','BloomIndustrySector','cdcissuer','Country']"
   ]
  },
  {
   "cell_type": "code",
   "execution_count": 17,
   "id": "915ed405",
   "metadata": {},
   "outputs": [
    {
     "data": {
      "text/plain": [
       "NATIXIS SELL    189790\n",
       "NATIXIS BUY      97384\n",
       "Name: B_Side, dtype: int64"
      ]
     },
     "execution_count": 17,
     "metadata": {},
     "output_type": "execute_result"
    }
   ],
   "source": [
    "df.B_Side.value_counts()"
   ]
  },
  {
   "cell_type": "code",
   "execution_count": null,
   "id": "155ef705",
   "metadata": {},
   "outputs": [],
   "source": [
    "# General Distribution Among Total Traded Volume > 0\n",
    "# 1. Country Distribution: France, Germany, Italy, ... Euro Zone\n",
    "# 2. Currency Distribution\n",
    "# 3. Industry Distribution\n",
    "# 4. Sales Name # no, they are generalist\n",
    "# 5. Coupon\n",
    "# 6. Maturity\n",
    "# 7. Company short name\n",
    "# 8. Rating\n",
    "# 9. Frequency"
   ]
  },
  {
   "cell_type": "code",
   "execution_count": null,
   "id": "3716b5e6",
   "metadata": {},
   "outputs": [],
   "source": [
    "# concern: One year data for short bond"
   ]
  },
  {
   "cell_type": "code",
   "execution_count": null,
   "id": "85014c15",
   "metadata": {},
   "outputs": [],
   "source": [
    "text = ' '.join(df['Country'])\n",
    "word_cloud1 = WordCloud(collocations = False, background_color = 'white',\n",
    "                        width = 2048, height = 1080).generate(text)\n",
    "# saving the image\n",
    "word_cloud1.to_file('Country.png')"
   ]
  },
  {
   "cell_type": "code",
   "execution_count": 18,
   "id": "e65cffc1",
   "metadata": {
    "scrolled": false
   },
   "outputs": [
    {
     "data": {
      "text/plain": [
       "EUR    286291\n",
       "USD       883\n",
       "Name: Ccy, dtype: int64"
      ]
     },
     "execution_count": 18,
     "metadata": {},
     "output_type": "execute_result"
    }
   ],
   "source": [
    "df['Ccy'].value_counts()"
   ]
  },
  {
   "cell_type": "code",
   "execution_count": 19,
   "id": "1baa20c5",
   "metadata": {
    "scrolled": true
   },
   "outputs": [
    {
     "data": {
      "text/plain": [
       "Government                     271564\n",
       "Financials                      12812\n",
       "Consumer Goods                    649\n",
       "Industrials                       521\n",
       "Utilities                         447\n",
       "Telecommunications Services       322\n",
       "Basic Materials                   259\n",
       "Healthcare                        232\n",
       "Consumer Services                 194\n",
       "Energy                             86\n",
       "Technology                         77\n",
       "Mortgage Finance                   11\n",
       "Name: Classification, dtype: int64"
      ]
     },
     "execution_count": 19,
     "metadata": {},
     "output_type": "execute_result"
    }
   ],
   "source": [
    "df['Classification'].value_counts()"
   ]
  },
  {
   "cell_type": "code",
   "execution_count": null,
   "id": "f5201228",
   "metadata": {},
   "outputs": [],
   "source": [
    "text = ' '.join(df['BloomIndustrySubGroup'])\n",
    "word_cloud1 = WordCloud(collocations = False, background_color = 'white',\n",
    "                        width = 2048, height = 1080).generate(text)\n",
    "# saving the image\n",
    "word_cloud1.to_file('got_BISG.png')"
   ]
  },
  {
   "cell_type": "code",
   "execution_count": null,
   "id": "1ede7b3c",
   "metadata": {
    "scrolled": true
   },
   "outputs": [],
   "source": [
    "text = ' '.join(df['cdcissuer'])\n",
    "word_cloud1 = WordCloud(collocations = False, background_color = 'white',\n",
    "                        width = 2048, height = 1080).generate(text)\n",
    "# saving the image\n",
    "word_cloud1.to_file('got_cdci.png')"
   ]
  },
  {
   "cell_type": "code",
   "execution_count": 20,
   "id": "271ae837",
   "metadata": {
    "scrolled": false
   },
   "outputs": [
    {
     "data": {
      "text/plain": [
       "(-0.011, 1.0]    116399\n",
       "(2.0, 3.0]        51199\n",
       "(1.0, 2.0]        45736\n",
       "(3.0, 4.0]        41862\n",
       "(4.0, 5.0]        25203\n",
       "(5.0, 6.0]         5353\n",
       "(6.0, 7.0]          838\n",
       "(7.0, 8.0]          581\n",
       "(9.0, 10.0]           2\n",
       "(8.0, 9.0]            1\n",
       "Name: Coupon, dtype: int64"
      ]
     },
     "execution_count": 20,
     "metadata": {},
     "output_type": "execute_result"
    }
   ],
   "source": [
    "df['Coupon'].value_counts(bins=10)"
   ]
  },
  {
   "cell_type": "code",
   "execution_count": 21,
   "id": "a5c48195",
   "metadata": {
    "scrolled": true
   },
   "outputs": [
    {
     "name": "stdout",
     "output_type": "stream",
     "text": [
      "short    122381\n",
      "mid       85023\n",
      "long      79770\n",
      "Name: dl_m_category, dtype: int64\n"
     ]
    }
   ],
   "source": [
    "# Count the values in each category\n",
    "category_counts = df['dl_m_category'].value_counts()\n",
    "\n",
    "print(category_counts)"
   ]
  },
  {
   "cell_type": "code",
   "execution_count": null,
   "id": "74c603dc",
   "metadata": {
    "scrolled": true
   },
   "outputs": [],
   "source": [
    "# Combine all company names into a single string\n",
    "# Replace spaces within company names with another character or sequence (e.g., underscore or another unique sequence)\n",
    "text = ' '.join(df['company_short_name'].str.replace(' ', '_'))\n",
    "word_cloud1 = WordCloud(collocations = True, background_color = 'white',\n",
    "                        width = 2048, height = 1080).generate(text)\n",
    "# saving the image\n",
    "word_cloud1.to_file('clients.png')"
   ]
  },
  {
   "cell_type": "code",
   "execution_count": 22,
   "id": "c31675a7",
   "metadata": {
    "scrolled": false
   },
   "outputs": [
    {
     "data": {
      "image/png": "[encoded data removed]",
      "text/plain": [
       "<Figure size 1440x432 with 1 Axes>"
      ]
     },
     "metadata": {
      "needs_background": "light"
     },
     "output_type": "display_data"
    }
   ],
   "source": [
    "value_counts = df['Rating_SP'].value_counts()\n",
    "plt.figure(figsize=(20, 6))\n",
    "value_counts.plot(kind='bar')\n",
    "plt.title('Value Counts of Rating SP')\n",
    "plt.xlabel('RatingSP')\n",
    "plt.ylabel('Frequency')\n",
    "plt.savefig(\"RatingSP.png\") \n",
    "plt.show()"
   ]
  },
  {
   "cell_type": "code",
   "execution_count": 23,
   "id": "0ac5ff37",
   "metadata": {
    "scrolled": true
   },
   "outputs": [
    {
     "data": {
      "text/plain": [
       "12M    175925\n",
       "6M     111229\n",
       "3M         20\n",
       "Name: Frequency, dtype: int64"
      ]
     },
     "execution_count": 23,
     "metadata": {},
     "output_type": "execute_result"
    }
   ],
   "source": [
    "df['Frequency'].value_counts() # we need to consider Frequency when comparing coupon rate"
   ]
  },
  {
   "cell_type": "code",
   "execution_count": 24,
   "id": "4d27bfc5",
   "metadata": {
    "scrolled": true
   },
   "outputs": [
    {
     "data": {
      "text/plain": [
       "Societe Generale Mer                          0.288027\n",
       "Cegi Ett                                      0.130848\n",
       "Credit Agricole Centre Loire Entreprises      0.069460\n",
       "Hsbc                                          0.047793\n",
       "Bnp Reunion                                   0.032694\n",
       "                                                ...   \n",
       "Mr Jean-Jacques Bondroit                      0.000352\n",
       "Ce Idf                                        0.000296\n",
       "Caisse D'Epargne D'Auvergne Et Du Limousin    0.000233\n",
       "Crcam                                         0.000212\n",
       "Bp2l                                          0.000146\n",
       "Name: company_short_name, Length: 89, dtype: float64"
      ]
     },
     "execution_count": 24,
     "metadata": {},
     "output_type": "execute_result"
    }
   ],
   "source": [
    "df['company_short_name'].value_counts(normalize=True)"
   ]
  },
  {
   "cell_type": "code",
   "execution_count": 25,
   "id": "30e2d115",
   "metadata": {
    "scrolled": false
   },
   "outputs": [
    {
     "data": {
      "text/plain": [
       "Fixed     284822\n",
       "Stepup      2352\n",
       "Name: Type, dtype: int64"
      ]
     },
     "execution_count": 25,
     "metadata": {},
     "output_type": "execute_result"
    }
   ],
   "source": [
    "df.Type.value_counts()"
   ]
  },
  {
   "cell_type": "code",
   "execution_count": null,
   "id": "8c577784",
   "metadata": {},
   "outputs": [],
   "source": [
    "# Lets take a look the data at per client level\n",
    "# 1. Average\n",
    "# 2. for specific client\n",
    "# We assume the key feature to differentiate a bond from others are: [Risk, Return]\n",
    "# Let's see how diversified our client apetite is by count unique values"
   ]
  },
  {
   "cell_type": "code",
   "execution_count": 26,
   "id": "7e36173e",
   "metadata": {
    "scrolled": true
   },
   "outputs": [],
   "source": [
    "client_avg_diversity = client_avg(df)"
   ]
  },
  {
   "cell_type": "code",
   "execution_count": 27,
   "id": "1e2f66f5",
   "metadata": {},
   "outputs": [
    {
     "data": {
      "text/plain": [
       "356.44"
      ]
     },
     "execution_count": 27,
     "metadata": {},
     "output_type": "execute_result"
    }
   ],
   "source": [
    "client_avg_diversity['ISIN']"
   ]
  },
  {
   "cell_type": "code",
   "execution_count": null,
   "id": "deb5ef50",
   "metadata": {},
   "outputs": [],
   "source": [
    "client_name = 'Societe Generale Mer'\n",
    "client_detail(client_name, df)['ISIN']"
   ]
  },
  {
   "cell_type": "code",
   "execution_count": null,
   "id": "3edb2edc",
   "metadata": {},
   "outputs": [],
   "source": [
    "client_name = 'Societe Generale Mer'\n",
    "preference = 'dl_m_category'\n",
    "weighted_sums = client_weighted_hist_pref(client_name, df, preference)"
   ]
  },
  {
   "cell_type": "code",
   "execution_count": 28,
   "id": "bb40bf24",
   "metadata": {
    "scrolled": true
   },
   "outputs": [],
   "source": [
    "# by maturity\n",
    "colors = ['whitesmoke', 'lightgrey', 'grey']"
   ]
  },
  {
   "cell_type": "code",
   "execution_count": 29,
   "id": "c0f86438",
   "metadata": {},
   "outputs": [],
   "source": [
    "weighted_sums = df.groupby('dl_m_category')['Total_requested_Price*Amount'].sum()"
   ]
  },
  {
   "cell_type": "code",
   "execution_count": 32,
   "id": "f391896c",
   "metadata": {
    "scrolled": true
   },
   "outputs": [
    {
     "data": {
      "image/png": "[encoded data removed]",
      "text/plain": [
       "<Figure size 576x576 with 1 Axes>"
      ]
     },
     "metadata": {},
     "output_type": "display_data"
    }
   ],
   "source": [
    "plt.figure(figsize=(8, 8))\n",
    "plt.pie(weighted_sums, labels=weighted_sums.index, autopct='%1.1f%%', startangle=140, colors=colors)\n",
    "plt.title('Maturity Preference Weighted by historical RFQ')\n",
    "plt.savefig('maturity_pre.png')\n",
    "plt.show()"
   ]
  },
  {
   "cell_type": "code",
   "execution_count": null,
   "id": "eace6244",
   "metadata": {
    "scrolled": true
   },
   "outputs": [],
   "source": [
    "client = 'Societe Generale Mer'\n",
    "client_mask = df.company_short_name == client\n",
    "client_df = df[client_mask]\n",
    "weighted_sums = client_df.groupby('dl_m_category')['Total_requested_Price*Amount'].sum()\n",
    "plt.figure(figsize=(8, 8))\n",
    "plt.pie(weighted_sums, labels=weighted_sums.index, autopct='%1.1f%%', startangle=140,colors = colors)\n",
    "plt.title(f'Maturity Preference of {client} Weighted by historical RFQ')\n",
    "plt.show()"
   ]
  },
  {
   "cell_type": "code",
   "execution_count": null,
   "id": "48710f98",
   "metadata": {},
   "outputs": [],
   "source": [
    "type(weighted_sums)"
   ]
  },
  {
   "cell_type": "code",
   "execution_count": null,
   "id": "d6a57b2b",
   "metadata": {},
   "outputs": [],
   "source": [
    "# global to keep: \n",
    "# tables of Client recent apetite, client historical apetite, ISINtofeatures, transformer(scaler and encoder),df,"
   ]
  },
  {
   "cell_type": "code",
   "execution_count": null,
   "id": "73196f40",
   "metadata": {},
   "outputs": [],
   "source": [
    "# from stock to client:\n",
    "# default order by client pool [seperate by historical and recent apetite]\n",
    "# from stock to stock:\n",
    "# default order by stock distance\n",
    "# feature: upload csv, query bond,\n",
    "# display: display similar bond list and detail and liquidity(volume deal/days), \n",
    "# display potential client and their apetite(historical/recent preference for maturity, sector, Ratings,),\n",
    "# display client pool(diversity, total value),\n",
    "# display average as compare for all above\n",
    "# page one: query and return list (click recent apetite tab)\n",
    "# page two: click bond or client name in the list to see detail df in page two\n",
    "# page three: click client name in the list to go client detail: diversity table, total value number, apetite 2*3 pie graph\n",
    "# page three: average number for above in ()\n"
   ]
  },
  {
   "cell_type": "code",
   "execution_count": null,
   "id": "db03762d",
   "metadata": {},
   "outputs": [],
   "source": [
    "# query ISIN or detail"
   ]
  },
  {
   "cell_type": "code",
   "execution_count": null,
   "id": "cf75ed54",
   "metadata": {},
   "outputs": [],
   "source": [
    "# assumpation: CB recommendation\n",
    "# preference weighted by value (price*amount)\n",
    "# preference be averaged\n",
    "# effective market where the b-price reflect the return+risk at the moment\n",
    "# assumpation: rating is not changing"
   ]
  },
  {
   "cell_type": "code",
   "execution_count": null,
   "id": "f2a3927b",
   "metadata": {},
   "outputs": [],
   "source": [
    "# question: Define Bond Similarity by key characteristic done bond - client done"
   ]
  },
  {
   "cell_type": "code",
   "execution_count": null,
   "id": "8bef1085",
   "metadata": {},
   "outputs": [],
   "source": [
    "# answer: sector, rating, amount, price, country, currency, maturity, coupon, frequency etc."
   ]
  },
  {
   "cell_type": "code",
   "execution_count": null,
   "id": "5d15a1e1",
   "metadata": {},
   "outputs": [],
   "source": [
    "# question: Identify investors behavior patterns so we can propose relevant trading opportunities"
   ]
  },
  {
   "cell_type": "code",
   "execution_count": null,
   "id": "dd68ead1",
   "metadata": {},
   "outputs": [],
   "source": [
    "# question: Categorize investors to enable anticipating potential interests based on the sub-category’s general behavior"
   ]
  },
  {
   "cell_type": "code",
   "execution_count": null,
   "id": "c57c5dbb",
   "metadata": {},
   "outputs": [],
   "source": [
    "# provide an integration method to both technical and business process journeys (relying on the information provided during the sales conference"
   ]
  }
 ],
 "metadata": {
  "kernelspec": {
   "display_name": "Python 3 (ipykernel)",
   "language": "python",
   "name": "python3"
  },
  "language_info": {
   "codemirror_mode": {
    "name": "ipython",
    "version": 3
   },
   "file_extension": ".py",
   "mimetype": "text/x-python",
   "name": "python",
   "nbconvert_exporter": "python",
   "pygments_lexer": "ipython3",
   "version": "3.9.7"
  }
 },
 "nbformat": 4,
 "nbformat_minor": 5
}
