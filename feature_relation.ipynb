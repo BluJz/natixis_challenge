{
 "cells": [
  {
   "cell_type": "code",
   "execution_count": null,
   "id": "1b3ab8c6-3dc9-4b8c-bd7b-a372c383fa53",
   "metadata": {
    "tags": []
   },
   "outputs": [],
   "source": [
    "import seaborn as sns\n",
    "import matplotlib.pyplot as plt\n",
    "import os as os\n",
    "import pandas as pd\n",
    "from itertools import product\n",
    "import numpy as np\n",
    "import scipy.stats as ss"
   ]
  },
  {
   "cell_type": "code",
   "execution_count": null,
   "id": "536924fb-0643-4500-a57e-585e160cedd8",
   "metadata": {
    "tags": []
   },
   "outputs": [],
   "source": [
    "filename = \"../hfactory_magic_folders/bond_recommender/RFQ_Data_Challenge_HEC.csv\" \n",
    "df = pd.read_csv(filename, low_memory = False)"
   ]
  },
  {
   "cell_type": "markdown",
   "id": "e1e349d6-9f30-4fa8-96b6-0469c370aeae",
   "metadata": {
    "jp-MarkdownHeadingCollapsed": true,
    "tags": []
   },
   "source": [
    "# some naive exploration ()"
   ]
  },
  {
   "cell_type": "code",
   "execution_count": null,
   "id": "26c354d4-88f9-4feb-a9c7-5acdaa557183",
   "metadata": {
    "tags": []
   },
   "outputs": [],
   "source": [
    "df.info()"
   ]
  },
  {
   "cell_type": "code",
   "execution_count": null,
   "id": "7a80aeab-faa3-46ce-8cf1-363c22e5c59b",
   "metadata": {
    "tags": []
   },
   "outputs": [],
   "source": [
    "df[['maturity','Maturity']]"
   ]
  },
  {
   "cell_type": "code",
   "execution_count": null,
   "id": "acd093aa-2423-4687-82ad-6fd26379d0c2",
   "metadata": {
    "tags": []
   },
   "outputs": [],
   "source": [
    "df.head()"
   ]
  },
  {
   "cell_type": "code",
   "execution_count": null,
   "id": "daccaf77-6b4d-44fd-a80f-dd73b52665ad",
   "metadata": {
    "tags": []
   },
   "outputs": [],
   "source": [
    "df[df.ISIN == 'DE000A14J587'][['Instrument', 'Coupon', 'Maturity', 'AssumedMaturity']]"
   ]
  },
  {
   "cell_type": "code",
   "execution_count": null,
   "id": "4ea2756d-594c-4f77-9ce2-fb9a626cb558",
   "metadata": {
    "tags": []
   },
   "outputs": [],
   "source": [
    "df.nunique()"
   ]
  },
  {
   "cell_type": "code",
   "execution_count": null,
   "id": "d2818f75-02a5-428b-84c1-49804613c9c6",
   "metadata": {
    "tags": []
   },
   "outputs": [],
   "source": [
    "df.Rating_Moodys.unique()"
   ]
  },
  {
   "cell_type": "code",
   "execution_count": null,
   "id": "806499c4-e245-4a60-8b5e-182908b76de2",
   "metadata": {
    "tags": []
   },
   "outputs": [],
   "source": [
    "df.Rating_SP.unique()"
   ]
  },
  {
   "cell_type": "code",
   "execution_count": null,
   "id": "3de50f63-7c45-4376-9192-d0cdf71d1d9b",
   "metadata": {
    "tags": []
   },
   "outputs": [],
   "source": [
    "df[['Maturity', 'AssumedMaturity']].dropna()"
   ]
  },
  {
   "cell_type": "code",
   "execution_count": null,
   "id": "2edfe0d9-5559-476b-8aea-e68b29d24236",
   "metadata": {
    "tags": []
   },
   "outputs": [],
   "source": [
    "df.B_Price.describe()"
   ]
  },
  {
   "cell_type": "code",
   "execution_count": null,
   "id": "de45dcb9-8f27-4b86-9578-c68b12614878",
   "metadata": {
    "tags": []
   },
   "outputs": [],
   "source": [
    "df[df.B_Price == 0].Total_Traded_Volume_Natixis"
   ]
  },
  {
   "cell_type": "code",
   "execution_count": null,
   "id": "e16d83af-7adf-44b7-9596-3c65e1606adf",
   "metadata": {
    "tags": []
   },
   "outputs": [],
   "source": [
    "df.Total_Requested_Volume.describe()"
   ]
  },
  {
   "cell_type": "code",
   "execution_count": null,
   "id": "828d0f63-0fb3-43ec-b1da-280375271d55",
   "metadata": {
    "tags": []
   },
   "outputs": [],
   "source": [
    "df.BloomIndustrySector.unique()"
   ]
  },
  {
   "cell_type": "code",
   "execution_count": null,
   "id": "0b54d56b-aeaa-4fd5-8630-50f119a09ec1",
   "metadata": {
    "tags": []
   },
   "outputs": [],
   "source": [
    "df.B_Side.unique()"
   ]
  },
  {
   "cell_type": "code",
   "execution_count": null,
   "id": "fbea3517-bc6d-4221-8a42-79d954ec33ee",
   "metadata": {
    "tags": []
   },
   "outputs": [],
   "source": [
    "df[df.B_Side == '0.000000']"
   ]
  },
  {
   "cell_type": "code",
   "execution_count": null,
   "id": "e94149c8-485f-4148-b49b-6489ecfc2099",
   "metadata": {
    "tags": []
   },
   "outputs": [],
   "source": [
    "df[df.B_Side == '0.000000'].Total_Requested_Volume"
   ]
  },
  {
   "cell_type": "code",
   "execution_count": null,
   "id": "f5e2ce44-e84a-4eb7-aae3-e1546c02f4a9",
   "metadata": {},
   "outputs": [],
   "source": [
    "df[['MidModifiedDuration', 'AssumedMaturity']]"
   ]
  },
  {
   "cell_type": "code",
   "execution_count": null,
   "id": "f846ef5b-e14e-4222-a93c-4bf5c7a84289",
   "metadata": {},
   "outputs": [],
   "source": []
  },
  {
   "cell_type": "markdown",
   "id": "5ab50695-d7a8-4cf2-9ec8-168cf1551919",
   "metadata": {
    "tags": []
   },
   "source": [
    "# clean the data"
   ]
  },
  {
   "cell_type": "code",
   "execution_count": null,
   "id": "a353d5f6-2178-488f-ae74-ab7e1c45e002",
   "metadata": {
    "tags": []
   },
   "outputs": [],
   "source": [
    "# change data type to datetime \n",
    "from datetime import datetime\n",
    "df_clean = df\n",
    "df_clean[['Maturity', 'AssumedMaturity', 'Deal_Date', 'YTWDate']] = df_clean[['Maturity', 'AssumedMaturity', 'Deal_Date', 'YTWDate']].apply(pd.to_datetime)"
   ]
  },
  {
   "cell_type": "code",
   "execution_count": null,
   "id": "2ec28082-806d-4ac7-9b71-2d36241bc70e",
   "metadata": {
    "tags": []
   },
   "outputs": [],
   "source": [
    "df_clean[['Maturity', 'AssumedMaturity', 'Deal_Date', 'YTWDate']]"
   ]
  },
  {
   "cell_type": "code",
   "execution_count": null,
   "id": "d88e8f7b-6641-4256-9dd8-01c2f3854401",
   "metadata": {
    "tags": []
   },
   "outputs": [],
   "source": [
    "# add a column indicating the time to maturity (DAYS)\n",
    "df_clean['TTM'] = df_clean['Maturity'] - df_clean['Deal_Date']\n",
    "df_clean.TTM = df_clean.TTM.dt.days.astype('int16')"
   ]
  },
  {
   "cell_type": "code",
   "execution_count": null,
   "id": "8c972423-6f1b-4d74-9a00-d31f1f9e429f",
   "metadata": {
    "tags": []
   },
   "outputs": [],
   "source": [
    "df_clean.TTM"
   ]
  },
  {
   "cell_type": "code",
   "execution_count": null,
   "id": "4b5b94be-4ce4-48e2-9f6e-0ca5d2702d8a",
   "metadata": {
    "tags": []
   },
   "outputs": [],
   "source": [
    "# add a time of yeild to call YTCDays\n",
    "df_clean['YTCDays'] = df_clean['YTWDate'] - df_clean['Deal_Date']\n",
    "df['YTCDays'] = df['YTCDays'].fillna(pd.Timedelta(seconds=0))\n",
    "df_clean.YTCDays = df_clean.YTCDays.dt.days.astype('int16')"
   ]
  },
  {
   "cell_type": "code",
   "execution_count": null,
   "id": "724632ec-c763-465c-82a7-11854338a946",
   "metadata": {
    "tags": []
   },
   "outputs": [],
   "source": [
    "df_clean.YTCDays"
   ]
  },
  {
   "cell_type": "code",
   "execution_count": null,
   "id": "d586b502-fd94-4122-88e5-031f984852d9",
   "metadata": {
    "tags": []
   },
   "outputs": [],
   "source": [
    "# drop rows with number of na >8\n",
    "df_clean.dropna(thresh=27, inplace = True)"
   ]
  },
  {
   "cell_type": "code",
   "execution_count": null,
   "id": "c1c65a6e-c12e-414f-859f-438aa221e8a4",
   "metadata": {
    "tags": []
   },
   "outputs": [],
   "source": [
    "# turn datetime into year, month, day\n",
    "df_clean['Deal_Date_year'] = df_clean['Deal_Date'].dt.year\n",
    "df_clean['Deal_Date_month'] = df_clean['Deal_Date'].dt.month\n",
    "df_clean['Deal_Date_day'] = df_clean['Deal_Date'].dt.day\n",
    "df_clean['Deal_Date_dayofweek'] = df_clean['Deal_Date'].dt.dayofweek\n",
    "\n",
    "df_clean['Maturity_year'] = df_clean['Maturity'].dt.year\n",
    "df_clean['Maturity_month'] = df_clean['Maturity'].dt.month\n",
    "df_clean['Maturity_day'] = df_clean['Maturity'].dt.day\n",
    "df_clean['Maturity_dayofweek'] = df_clean['Maturity'].dt.dayofweek\n",
    "\n",
    "df_clean['YTWDate_year'] = df_clean['YTWDate'].dt.year\n",
    "df_clean['YTWDate_month'] = df_clean['YTWDate'].dt.month\n",
    "df_clean['YTWDate_day'] = df_clean['YTWDate'].dt.day\n",
    "df_clean['YTWDate_dayofweek'] = df_clean['YTWDate'].dt.dayofweek\n",
    "\n",
    "df_clean.drop(columns = ['Deal_Date', 'Maturity', 'YTWDate'], inplace = True)"
   ]
  },
  {
   "cell_type": "code",
   "execution_count": null,
   "id": "b70719a0-5bd9-4f90-842c-5c6a4e925a3f",
   "metadata": {
    "tags": []
   },
   "outputs": [],
   "source": [
    "# drop columns that are not useful or have too many nas\n",
    "\n",
    "df_clean = df_clean.drop(columns=['cusip','maturity', 'Cusip', 'Instrument', 'Sales_Name', 'Sales_Initial', 'Rating_Fitch', 'Rating_Moodys', 'Tier', 'AssumedMaturity'])"
   ]
  },
  {
   "cell_type": "code",
   "execution_count": null,
   "id": "018b92c2-e39a-4cee-b555-3326c8139070",
   "metadata": {
    "tags": []
   },
   "outputs": [],
   "source": [
    "df_clean.drop(df_clean[df_clean.B_Side == '0.000000'].index, inplace = True)"
   ]
  },
  {
   "cell_type": "code",
   "execution_count": null,
   "id": "a72f8dbc-b524-4bd2-97fd-1cf9d379f0d1",
   "metadata": {
    "tags": []
   },
   "outputs": [],
   "source": [
    "df_clean.reset_index(drop=True)"
   ]
  },
  {
   "cell_type": "code",
   "execution_count": null,
   "id": "e1f3391f-9c33-4463-85b6-5b94bb312251",
   "metadata": {
    "tags": []
   },
   "outputs": [],
   "source": [
    "df_clean[['Total_Requested_Volume', 'B_Price']] = df_clean[['Total_Requested_Volume', 'B_Price']].astype(float)"
   ]
  },
  {
   "cell_type": "code",
   "execution_count": null,
   "id": "cb694e4a-f51d-46c1-96dd-5e0891079f80",
   "metadata": {
    "tags": []
   },
   "outputs": [],
   "source": [
    "df_clean.info()"
   ]
  },
  {
   "cell_type": "code",
   "execution_count": null,
   "id": "dae37a65-8466-4dbd-aa6c-5d6f1ec29f7f",
   "metadata": {
    "tags": []
   },
   "outputs": [],
   "source": [
    "cat_features = list(df_clean.select_dtypes(include=['object']).columns)\n",
    "cat_features.remove('ISIN')\n",
    "num_features = list(df_clean._get_numeric_data().columns)\n",
    "num_features"
   ]
  },
  {
   "cell_type": "markdown",
   "id": "0004615a-70f0-40bc-b173-795003e56214",
   "metadata": {
    "tags": []
   },
   "source": [
    "# correlation heatmaps"
   ]
  },
  {
   "cell_type": "markdown",
   "id": "bce33fe3-e80d-465a-b6a3-43a42ea8973a",
   "metadata": {
    "jp-MarkdownHeadingCollapsed": true,
    "tags": []
   },
   "source": [
    "## numerical"
   ]
  },
  {
   "cell_type": "code",
   "execution_count": null,
   "id": "045ac94b-e4d5-41ba-90f2-9d448c8b9196",
   "metadata": {
    "tags": []
   },
   "outputs": [],
   "source": [
    "df_num = df_clean[num_features]\n",
    "# Increase the size of the heatmap.\n",
    "plt.figure(figsize=(28, 12))\n",
    "# Store heatmap object in a variable to easily access it when you want to include more features (such as title).\n",
    "# Set the range of values to be displayed on the colormap from -1 to 1, and set the annotation to True to display the correlation values on the heatmap.\n",
    "heatmap = sns.heatmap(df_num.corr(), vmin=-1, vmax=1, annot=True)\n",
    "# Give a title to the heatmap. Pad defines the distance of the title from the top of the heatmap.\n",
    "heatmap.set_title('Correlation Heatmap', fontdict={'fontsize':12}, pad=12);"
   ]
  },
  {
   "cell_type": "code",
   "execution_count": null,
   "id": "a98af9fd-7797-4471-9a69-21772087af84",
   "metadata": {
    "tags": []
   },
   "outputs": [],
   "source": [
    "# drop corr>0.7\n",
    "df_num_new = df_num.drop(columns = ['MidModifiedDuration', 'Total_Traded_Volume', 'MidEffectiveDuration', 'YTWDate_month', 'YTWDate_day', 'YTWDate_dayofweek'\n",
    "                               , 'MidYTM', 'SpreadvsBenchmarkMid', 'Maturity_year', 'YTWDate_year', 'MidASWSpread'])\n",
    "# Increase the size of the heatmap\n",
    "plt.figure(figsize=(28,12))\n",
    "# Store heatmap object in a variable to easily access it when you want to include more features (such as title).\n",
    "# Set the range of values to be displayed on the colormap from -1 to 1, and set the annotation to True to display the correlation values on the heatmap.\n",
    "heatmap = sns.heatmap(df_num_new.corr(), vmin=-1, vmax=1, annot=True)\n",
    "# Give a title to the heatmap. Pad defines the distance of the title from the top of the heatmap.\n",
    "heatmap.set_title('New Correlation Heatmap', fontdict={'fontsize':12}, pad=12);"
   ]
  },
  {
   "cell_type": "markdown",
   "id": "f4542c2d-c812-4620-a0bb-5fabb12f828d",
   "metadata": {
    "tags": []
   },
   "source": [
    "## categorical "
   ]
  },
  {
   "cell_type": "code",
   "execution_count": null,
   "id": "a1225503-20b1-4b3d-800d-bcd84024e0f2",
   "metadata": {
    "tags": []
   },
   "outputs": [],
   "source": [
    "df_cat = df_clean[cat_features]\n",
    "df_cat.head()"
   ]
  },
  {
   "cell_type": "code",
   "execution_count": null,
   "id": "5f7f195d-396d-4a46-9b6e-5da79824d085",
   "metadata": {
    "tags": []
   },
   "outputs": [],
   "source": [
    "## Removing records with at least one null value in a row\n",
    "df_cat_v1 = df_cat.dropna()\n",
    "df_cat_v1.shape\n",
    "## Let us split this list into two parts\n",
    "cat_var1 = (cat_features)\n",
    "cat_var2 = (cat_features)\n",
    "## Let us jump to Chi-Square test\n",
    "## Creating all possible combinations between the above two variables list\n",
    "cat_var_prod = list(product(cat_var1,cat_var2, repeat = 1))"
   ]
  },
  {
   "cell_type": "code",
   "execution_count": null,
   "id": "32810903-7746-47e5-8938-7f17b4a8c753",
   "metadata": {
    "jupyter": {
     "outputs_hidden": true
    },
    "tags": []
   },
   "outputs": [],
   "source": [
    "## Creating an empty variable and picking only the p value from the output of Chi-Square test\n",
    "result = []\n",
    "for i in cat_var_prod:\n",
    "    if i[0] != i[1]:\n",
    "        result.append((i[0],i[1],list(ss.chi2_contingency(pd.crosstab(df_cat_v1[i[0]], df_cat_v1[i[1]])))[1]))"
   ]
  },
  {
   "cell_type": "code",
   "execution_count": null,
   "id": "80fe5b05-9b59-4850-a5d5-24d16287948f",
   "metadata": {
    "tags": []
   },
   "outputs": [],
   "source": [
    "chi_test_output = pd.DataFrame(result, columns = ['var1', 'var2', 'coeff'])\n",
    "## Using pivot function to convert the above DataFrame into a crosstab\n",
    "chi_test_output.pivot(index='var1', columns='var2', values='coeff')"
   ]
  },
  {
   "cell_type": "markdown",
   "id": "c5afb6ab-4e93-4c95-9853-4e9b44e0d579",
   "metadata": {},
   "source": [
    "### cramers V"
   ]
  },
  {
   "cell_type": "code",
   "execution_count": null,
   "id": "007e9d53-d2a9-4f8d-9c6c-0686e0d98296",
   "metadata": {
    "tags": []
   },
   "outputs": [],
   "source": [
    "from scipy.stats import chi2_contingency\n",
    "import seaborn as sns\n",
    "\n",
    "def cramerV(label,x):\n",
    "    confusion_matrix = pd.crosstab(label, x)\n",
    "    chi2 = chi2_contingency(confusion_matrix)[0]\n",
    "    n = confusion_matrix.sum().sum()\n",
    "    r,k = confusion_matrix.shape\n",
    "    phi2 = chi2/n\n",
    "    phi2corr = max(0,phi2-((k-1)*(r-1))/(n-1))\n",
    "    rcorr = r - ((r - 1) ** 2) / ( n - 1 )\n",
    "    kcorr = k - ((k - 1) ** 2) / ( n - 1 )\n",
    "    try:\n",
    "        if min((kcorr - 1),(rcorr - 1)) == 0:\n",
    "            warnings.warn(\n",
    "            \"Unable to calculate Cramer's V using bias correction. Consider not using bias correction\",RuntimeWarning)\n",
    "            v = 0\n",
    "            print(\"If condition Met: \",v)\n",
    "        else:\n",
    "            v = np.sqrt(phi2corr / min((kcorr - 1), (rcorr - 1)))\n",
    "            #print(\"Else condition Met: \",v)\n",
    "    except:\n",
    "        print(\"inside error\")\n",
    "        v = 0\n",
    "    return v\n",
    "def plot_cramer(df):\n",
    "    cramer = pd.DataFrame(index=df.columns,columns=df.columns)\n",
    "    for column_of_interest in df.columns:\n",
    "        try:\n",
    "            temp = {}\n",
    "\n",
    "            columns = df.columns\n",
    "            for j in range(0,len(columns)):\n",
    "                v = cramerV(df[column_of_interest],df[columns[j]])\n",
    "                cramer.loc[column_of_interest,columns[j]] = v\n",
    "                if (column_of_interest==columns[j]):\n",
    "                    pass\n",
    "                else:\n",
    "                    temp[columns[j]] = v\n",
    "            cramer.fillna(value=np.nan,inplace=True)\n",
    "        except:\n",
    "            print('Dropping row:',column_of_interest)\n",
    "            pass\n",
    "    plt.figure(figsize=(16,6))\n",
    "    sns.heatmap(cramer,annot=True,fmt='.2f')\n",
    "\n",
    "    plt.title(\"Cross Correlation plot on Dataframe with Cramer's Correlation Values\")\n",
    "    plt.show()\n",
    "       \n",
    "plot_cramer(df_cat)    "
   ]
  },
  {
   "cell_type": "code",
   "execution_count": null,
   "id": "702d0ece-8314-46aa-9894-4a5aa77bfb01",
   "metadata": {
    "tags": []
   },
   "outputs": [],
   "source": [
    "# drop columns that are highly correlated with others\n",
    "df_clean.drop(columns = ['MidModifiedDuration', 'Total_Traded_Volume', 'MidEffectiveDuration', 'YTWDate_month', 'YTWDate_day', 'YTWDate_dayofweek'\n",
    "                               , 'MidYTM', 'SpreadvsBenchmarkMid', 'Maturity_year', 'YTWDate_year', 'MidASWSpread', 'cdcissuer', 'cdcissuerShortName', 'lb_Platform_2', 'BloomIndustrySector', 'BloomIndustrySubGroup'], inplace = True)"
   ]
  },
  {
   "cell_type": "code",
   "execution_count": null,
   "id": "a72ba732-caac-4de1-81fd-016c9a04c86e",
   "metadata": {
    "tags": []
   },
   "outputs": [],
   "source": [
    "!pip install xgboost"
   ]
  },
  {
   "cell_type": "code",
   "execution_count": null,
   "id": "a37cbe33-0d35-405d-b34d-6fd01d9244e1",
   "metadata": {
    "tags": []
   },
   "outputs": [],
   "source": [
    "import json\n",
    "\n",
    "with open('categorical-model.json') as user_file:\n",
    "    file_contents = user_file.read()\n",
    "\n",
    "print(file_contents)\n",
    "\n",
    "parsed_json = json.loads(file_contents)"
   ]
  },
  {
   "cell_type": "markdown",
   "id": "a8f1263f-735f-429f-97fe-9d28125d081c",
   "metadata": {
    "tags": []
   },
   "source": [
    "# Task1: define a similarity measurement for bonds"
   ]
  },
  {
   "cell_type": "code",
   "execution_count": null,
   "id": "e2d3ed73-91cb-466b-bfb3-1efe0ff674c9",
   "metadata": {
    "tags": []
   },
   "outputs": [],
   "source": [
    "# create a dataframe with bond features without operational informations\n",
    "df_bonds = df_clean.drop(columns = ['Total_Traded_Volume_Natixis', 'Total_Traded_Volume_Away', 'Total_Requested_Volume', 'B_Side', 'B_Price', 'company_short_name'])"
   ]
  },
  {
   "cell_type": "code",
   "execution_count": null,
   "id": "7ab1c6d7-f573-4375-a0aa-eed81cb0ebd4",
   "metadata": {
    "tags": []
   },
   "outputs": [],
   "source": [
    "# drop duplicates\n",
    "df_bonds.drop_duplicates(inplace = True)\n",
    "df_bonds.reset_index().drop=True"
   ]
  },
  {
   "cell_type": "code",
   "execution_count": null,
   "id": "b6be9518-551c-4ccb-805f-3caca707e2af",
   "metadata": {
    "tags": []
   },
   "outputs": [],
   "source": [
    "df_bonds.info()"
   ]
  },
  {
   "cell_type": "code",
   "execution_count": null,
   "id": "57802b9e-5d22-49f1-87df-ef8aac2f6556",
   "metadata": {
    "tags": []
   },
   "outputs": [],
   "source": [
    "df_bonds[df_bonds.select_dtypes(['object']).columns] = df_bonds.select_dtypes(['object']).apply(lambda x: x.astype('category'))"
   ]
  },
  {
   "cell_type": "code",
   "execution_count": null,
   "id": "32e41799-df41-4a12-b650-3f9e17e5aca8",
   "metadata": {
    "jupyter": {
     "source_hidden": true
    },
    "tags": []
   },
   "outputs": [],
   "source": [
    "from sklearn.model_selection import train_test_split\n",
    "from sklearn.experimental import enable_hist_gradient_boosting  # noqa\n",
    "from sklearn.ensemble import HistGradientBoostingClassifier\n",
    "from sklearn.ensemble import RandomForestClassifier\n",
    "from sklearn.preprocessing import OneHotEncoder\n",
    "from sklearn.compose import ColumnTransformer\n",
    "from sklearn.pipeline import Pipeline\n",
    "from sklearn.metrics import accuracy_score\n",
    "# Identify numerical and categorical features\n",
    "numeric_features = X.select_dtypes(include=['int', 'float']).columns\n",
    "categorical_features = X.select_dtypes(include=['object']).columns\n",
    "\n",
    "# Create transformers for numerical and categorical features\n",
    "numeric_transformer = Pipeline(steps=[\n",
    "    ('num', 'passthrough')  # For numerical features, we just pass them through\n",
    "])\n",
    "\n",
    "categorical_transformer = Pipeline(steps=[\n",
    "    ('onehot', OneHotEncoder(handle_unknown='ignore'))\n",
    "])\n",
    "\n",
    "# Combine transformers using ColumnTransformer\n",
    "preprocessor = ColumnTransformer(\n",
    "    transformers=[\n",
    "        ('num', numeric_transformer, numeric_features),\n",
    "        ('cat', categorical_transformer, categorical_features)\n",
    "    ])\n",
    "\n",
    "# Create the Random Forest Classifier\n",
    "model = Pipeline(steps=[\n",
    "    ('preprocessor', preprocessor),\n",
    "    ('classifier', RandomForestClassifier(random_state=42))\n",
    "])\n",
    "\n",
    "# Train the model\n",
    "model.fit(X_train, y_train)\n",
    "\n",
    "# Make predictions on the test set\n",
    "y_pred = model.predict(X_test)\n",
    "\n",
    "# Evaluate the model\n",
    "accuracy = accuracy_score(y_test, y_pred)\n",
    "print(f'Accuracy: {accuracy:.2f}')\n"
   ]
  },
  {
   "cell_type": "code",
   "execution_count": null,
   "id": "307e3d63-3d5c-4415-b4e4-8486f1b2e6b2",
   "metadata": {
    "tags": []
   },
   "outputs": [],
   "source": [
    "import xgboost as xgb\n",
    "from sklearn.model_selection import train_test_split\n",
    "from sklearn.preprocessing import LabelEncoder\n",
    "le = LabelEncoder()\n",
    "y = df_bonds.dropna().ISIN\n",
    "X = df_bonds.dropna().drop(columns = ['ISIN'])\n",
    "X_train, X_test, y_train, y_test = train_test_split(X, y, test_size=0.9, random_state=42)\n",
    "y_train = le.fit_transform(y_train)"
   ]
  },
  {
   "cell_type": "code",
   "execution_count": null,
   "id": "860688eb-1a28-4778-b46b-276c6f7813fd",
   "metadata": {
    "tags": []
   },
   "outputs": [],
   "source": [
    "# Supported tree methods are `approx` and `hist`.\n",
    "clf = xgb.XGBClassifier(enable_categorical=True)\n",
    "# X is the dataframe we created in previous snippet\n",
    "clf.fit(X_train, y_train)\n",
    "# Must use JSON/UBJSON for serialization, otherwise the information is lost.\n",
    "clf.save_model(\"categorical-model.json\")"
   ]
  },
  {
   "cell_type": "code",
   "execution_count": null,
   "id": "ea5d31e7-54de-4d8d-bbe3-1c4f28ba8f8f",
   "metadata": {
    "tags": []
   },
   "outputs": [],
   "source": [
    "importance = clf.feature_importances_\n",
    "\n",
    "# summarize feature importance\n",
    "for i,v in enumerate(importance):\n",
    "    print('Feature: %0d, Score: %.5f' % (i,v))\n",
    "# plot feature importance\n",
    "plt.bar([x for x in range(len(importance))], importance)\n",
    "plt.show()"
   ]
  },
  {
   "cell_type": "code",
   "execution_count": null,
   "id": "a7ae3ecb-5423-491d-8db2-2206bfcf652f",
   "metadata": {
    "tags": []
   },
   "outputs": [],
   "source": [
    "importance.shape"
   ]
  },
  {
   "cell_type": "code",
   "execution_count": null,
   "id": "1d05f0bb-9b9c-4545-9673-51f4628b89c0",
   "metadata": {
    "tags": []
   },
   "outputs": [],
   "source": [
    "int_columns = df_bonds.select_dtypes(include='int').columns\n",
    "df_bonds[int_columns] = df_bonds[int_columns].astype(float)"
   ]
  },
  {
   "cell_type": "code",
   "execution_count": null,
   "id": "492a4bba-ce5e-4dd4-b62c-820c46815d87",
   "metadata": {
    "tags": []
   },
   "outputs": [],
   "source": [
    "# encode the categorical columns to 0, 1\n",
    "df_encoded = pd.get_dummies(df_bonds.drop(columns = ['ISIN']), columns=df_bonds.select_dtypes(include='category').columns, dtype=float)"
   ]
  },
  {
   "cell_type": "code",
   "execution_count": null,
   "id": "6c68a5a3-4942-4177-92e5-288300cc625c",
   "metadata": {
    "tags": []
   },
   "outputs": [],
   "source": [
    "import pandas as pd\n",
    "from sklearn.metrics.pairwise import cosine_similarity\n",
    "from sklearn.preprocessing import normalize\n",
    "\n",
    "# Step 1: the last row as the new input\n",
    "new_row = df_encoded.iloc[-1,:]\n",
    "\n",
    "# Step 2: Specify the weights for each feature\n",
    "weights = importance\n",
    "\n",
    "# Step 3: Calculate the cosine similarity with weighted features\n",
    "features = df_encoded.values\n",
    "\n",
    "# Apply weights to the features\n",
    "weighted_features = np.dot(features, weights)\n",
    "\n",
    "# Normalize the weighted feature vectors to ensure accurate cosine similarity calculation\n",
    "#normalized_weighted_features = normalize(weighted_features, axis=0)\n",
    "\n",
    "# Calculate the cosine similarity matrix\n",
    "cosine_sim_matrix = cosine_similarity(weighted_features, weighted_features)\n",
    "\n",
    "# Step 4: Extract the similarity values for the new row\n",
    "new_row_index = df_encoded.shape[0] - 1  # Index of the new row\n",
    "similarities_with_existing_rows = cosine_sim_matrix[new_row_index, :-1]\n",
    "\n",
    "# Step 5: Add the similarities to the DataFrame or use them as needed\n",
    "df_encoded['CosineSimilarity'] = similarities_with_existing_rows\n",
    "\n",
    "# Now df contains the cosine similarity values with weighted features for the new row with existing rows\n"
   ]
  },
  {
   "cell_type": "markdown",
   "id": "f75bbff9-45df-4c5b-a6b3-b0e9b662b9ff",
   "metadata": {},
   "source": [
    "# Task2: recommendation system for clients"
   ]
  },
  {
   "cell_type": "markdown",
   "id": "155811ee-cd10-45a9-a568-096730b227d5",
   "metadata": {
    "tags": []
   },
   "source": [
    "Idea 1: Using collaborative filtering between bonds and clients\n",
    "Each bond and each client are associated with a score (for example: frequency) in the pivot table\n",
    "When a new bond came in, it can suggests clients who may have interests in.\n",
    "\n",
    "\n",
    "\n"
   ]
  },
  {
   "cell_type": "code",
   "execution_count": null,
   "id": "7588b258-f73a-462a-bb5b-5fa71250a2ec",
   "metadata": {
    "tags": []
   },
   "outputs": [],
   "source": [
    "# associate clients and bonds with the number of requests\n",
    "pivot_table_count = df_clean.pivot_table(index='company_short_name', columns='ISIN', values=['Total_Requested_Volume'], aggfunc = ['count'],  fill_value=0)\n",
    "\n",
    "# Display the pivot table\n",
    "print(pivot_table_count)"
   ]
  },
  {
   "cell_type": "code",
   "execution_count": null,
   "id": "77f92d4d-3753-4b9f-91dd-30a4c8669bdd",
   "metadata": {
    "tags": []
   },
   "outputs": [],
   "source": [
    "pivot_table_count.columns = pivot_table_count.columns.droplevel(0) #remove amount\n",
    "df1 = pivot_table_count.reset_index().rename_axis(None, axis=1)\n",
    "df1"
   ]
  },
  {
   "cell_type": "code",
   "execution_count": null,
   "id": "c19d19c1-34f0-4c84-b0cc-f8eac73726b2",
   "metadata": {},
   "outputs": [],
   "source": [
    "def interested_customers(pivot_table_df, bond_name, top_n = 5):\n",
    "    if (df1[bond_name] != 0).sum() < top_n:\n",
    "        return list(df1.iloc[(df1[bond_name]!=0).index].company_short_name)\n",
    "    else:\n",
    "        return list(df1.iloc[df1[bond_name].nlargest(top_n).index].company_short_name)"
   ]
  }
 ],
 "metadata": {
  "kernelspec": {
   "display_name": "Python 3 (ipykernel)",
   "language": "python",
   "name": "python3"
  },
  "language_info": {
   "codemirror_mode": {
    "name": "ipython",
    "version": 3
   },
   "file_extension": ".py",
   "mimetype": "text/x-python",
   "name": "python",
   "nbconvert_exporter": "python",
   "pygments_lexer": "ipython3",
   "version": "3.10.13"
  }
 },
 "nbformat": 4,
 "nbformat_minor": 5
}
